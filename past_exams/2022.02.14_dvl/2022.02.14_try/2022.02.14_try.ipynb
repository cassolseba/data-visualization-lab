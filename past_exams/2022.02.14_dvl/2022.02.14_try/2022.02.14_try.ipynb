{
 "cells": [
  {
   "cell_type": "markdown",
   "source": [
    "# Data Visualization Lab - Sebastiano Cassol - id: 229318\n",
    "> 14 - 02 - 2022"
   ],
   "metadata": {
    "collapsed": false
   },
   "id": "d8641cdad271b072"
  },
  {
   "cell_type": "markdown",
   "source": [
    "## Exercise 1\n",
    "(...)"
   ],
   "metadata": {
    "collapsed": false
   },
   "id": "36b49fe671e2fc7a"
  },
  {
   "cell_type": "markdown",
   "source": [
    "## Exercise 2\n",
    "(...)"
   ],
   "metadata": {
    "collapsed": false
   },
   "id": "661e471089aa3f67"
  },
  {
   "cell_type": "markdown",
   "source": [
    "## Exercise 3\n",
    "(...)"
   ],
   "metadata": {
    "collapsed": false
   },
   "id": "d549fef7cb92b147"
  },
  {
   "cell_type": "markdown",
   "source": [
    "## Exercise 4\n",
    "### Worldwide Crop Consumption"
   ],
   "metadata": {
    "collapsed": false
   },
   "id": "b0ccf02d65e89f99"
  },
  {
   "cell_type": "code",
   "execution_count": null,
   "outputs": [],
   "source": [
    "import pandas as pd\n",
    "\n",
    "crop_consumption = pd.read_csv('../worldwide_crop_consumption.csv')\n",
    "\n",
    "crop_consumption"
   ],
   "metadata": {
    "collapsed": false
   },
   "id": "fa440f91de8d6d77"
  },
  {
   "cell_type": "markdown",
   "source": [
    "For the first infographic, we want to visualize the 'RICE' consumption in a certain country over the years. So let's pick a country and prepare the data.\n",
    "Let's say *Japan*."
   ],
   "metadata": {
    "collapsed": false
   },
   "id": "6f065f5a7a800b42"
  },
  {
   "cell_type": "code",
   "execution_count": null,
   "outputs": [],
   "source": [
    "crop_japan = crop_consumption[crop_consumption['LOCATION'] == 'JPN']\n",
    "\n",
    "rice_japan = crop_japan[crop_japan['SUBJECT'] == 'RICE']\n",
    "\n",
    "rice_japan.reset_index(inplace=True) # create index\n",
    "\n",
    "rice_japan = rice_japan.iloc[:, 1:] # remove old indexes\n",
    "\n",
    "rice_japan"
   ],
   "metadata": {
    "collapsed": false
   },
   "id": "c84fd5521447b9f9"
  },
  {
   "cell_type": "markdown",
   "source": [
    "Now it's time to prepare the data for the bar plot."
   ],
   "metadata": {
    "collapsed": false
   },
   "id": "48f6e85d37b57685"
  },
  {
   "cell_type": "code",
   "execution_count": null,
   "outputs": [],
   "source": [
    "rice_japan_tonneha = rice_japan[rice_japan['MEASURE'] == 'TONNE_HA']\n",
    "\n",
    "rice_japan_tonneha['TIME'] = pd.to_numeric(rice_japan_tonneha['TIME'])\n",
    "\n",
    "rice_japan_tonneha['Value'] = pd.to_numeric(rice_japan_tonneha['Value'])\n",
    "\n",
    "# drop years: 2024, 2025, 2026\n",
    "rice_japan_tonneha = rice_japan_tonneha[rice_japan['TIME'] != 2024]\n",
    "rice_japan_tonneha = rice_japan_tonneha[rice_japan['TIME'] != 2025]\n",
    "rice_japan_tonneha = rice_japan_tonneha[rice_japan['TIME'] != 2026]\n",
    "\n",
    "years = rice_japan_tonneha['TIME'].tolist()\n",
    "\n",
    "rice_japan_tonneha"
   ],
   "metadata": {
    "collapsed": false
   },
   "id": "4aeffe57e8cf196d"
  },
  {
   "cell_type": "markdown",
   "source": [
    "Now let's prepare the data to visualize the entire world consumption of `RICE` in a certain year e.g., 2022, on a map."
   ],
   "metadata": {
    "collapsed": false
   },
   "id": "f124aee24c88c3b0"
  },
  {
   "cell_type": "code",
   "execution_count": null,
   "outputs": [],
   "source": [
    "world_consumption_2022 = crop_consumption[crop_consumption['TIME'] == 2022]\n",
    "\n",
    "world_consumption_2022 = world_consumption_2022[world_consumption_2022['SUBJECT'] == 'RICE']\n",
    "world_consumption_2022 = world_consumption_2022[world_consumption_2022['MEASURE'] == 'TONNE_HA']\n",
    "\n",
    "world_consumption_2022.reset_index(inplace=True)\n",
    "\n",
    "world_consumption_2022 = world_consumption_2022.iloc[:, 1:]\n",
    "\n",
    "min_value = min(world_consumption_2022['Value'])\n",
    "max_value = max(world_consumption_2022['Value'])\n",
    "min_year = min(world_consumption_2022['TIME'])\n",
    "max_year = max(world_consumption_2022['TIME'])\n",
    "\n",
    "world_consumption_2022"
   ],
   "metadata": {
    "collapsed": false
   },
   "id": "2c4cf3753ba0cff8"
  },
  {
   "cell_type": "markdown",
   "source": [
    "Now we have to deal with geodata."
   ],
   "metadata": {
    "collapsed": false
   },
   "id": "7cd54052090b3cbb"
  },
  {
   "cell_type": "code",
   "execution_count": null,
   "outputs": [],
   "source": [
    "import json\n",
    "with open('countries.geo.json') as f:\n",
    "    worldmap = json.load(f)\n",
    "    \n",
    "worldmap"
   ],
   "metadata": {
    "collapsed": false
   },
   "id": "522083caa034e742"
  },
  {
   "cell_type": "code",
   "execution_count": null,
   "outputs": [],
   "source": [
    "import numpy as np\n",
    "import seaborn as sns\n",
    "import mapclassify as mc\n",
    "import matplotlib.pyplot as plt\n",
    "import plotly.express as px\n",
    "\n",
    "# statistical figure\n",
    "\n",
    "fig, axes = plt.subplots(2, 1, figsize=(20, 15)) # define two subplots\n",
    "\n",
    "plt.suptitle('How much rice is consumed in the world (and in Japan!)')\n",
    "\n",
    "sns.barplot(ax = axes[0], data=rice_japan_tonneha, x='TIME', y=\"Value\")\n",
    "axes[0].set_title(\"Rice consumption (in tonne ha) in Japan\")\n",
    "axes[0].set_xlabel(\"Year\", fontsize = 15)\n",
    "axes[0].set_xticks(np.arange(0, len(years), 1))\n",
    "axes[0].set_xticklabels(np.arange(min_year, max_year, 1), rotation=70, fontsize=15)\n",
    "axes[0].set_ylabel(\"Rice\", fontsize=15)\n",
    "\n",
    "axes[1].plot(rice_japan_tonneha['TIME'], rice_japan_tonneha['Value'], color='tab:red')\n",
    "axes[1].set_xlabel(\"Years\", fontsize=15)\n",
    "axes[1].tick_params(axis=\"x\", rotation=30, labelsize=10)\n",
    "axes[1].set_ylabel(\"Rice consumption\", color=\"tab:red\", fontsize=15)\n",
    "axes[1].tick_params(axis=\"y\", rotation=90, labelsize=10)\n",
    "axes[1].grid(alpha=.4)\n",
    "\n",
    "fig.tight_layout()\n",
    "\n",
    "fig.show()"
   ],
   "metadata": {
    "collapsed": false
   },
   "id": "a782a4ebbc61b119"
  },
  {
   "cell_type": "code",
   "execution_count": null,
   "outputs": [],
   "source": [
    "# choropleth map\n",
    "fig2 = px.choropleth_mapbox(world_consumption_2022,\n",
    "                            geojson=worldmap,\n",
    "                            locations='LOCATION',\n",
    "                            featureidkey='properties.sov_a3',\n",
    "                            color='Value',\n",
    "                            color_continuous_scale=\"Viridis\",\n",
    "                            range_color=(min_value, max_value),\n",
    "                            labels={'Country':'LOCATION', 'Consumption':'Value'},\n",
    "                            title=\"World rice consumption in 2022\",\n",
    "                            hover_data=['LOCATION', 'Value'],\n",
    "                            center={'lon': 14, 'lat': 40},\n",
    "                            mapbox_style='open-street-map',\n",
    "                            zoom=2)\n",
    "\n",
    "fig2.update_geos(showcountries=False,\n",
    "                 showcoastlines=False,\n",
    "                 showland=False,\n",
    "                 fitbounds='locations')\n",
    "fig2.update_layout(margin={\"r\":0, \"t\":40, \"l\":0, \"b\":0})\n",
    "fig2.show()"
   ],
   "metadata": {
    "collapsed": false
   },
   "id": "74b25b49b62a2921"
  },
  {
   "cell_type": "markdown",
   "source": [
    "## Exercise 5\n",
    "Dimensionality reduction"
   ],
   "metadata": {
    "collapsed": false
   },
   "id": "1374a6c1c1385f7d"
  },
  {
   "cell_type": "code",
   "execution_count": null,
   "outputs": [],
   "source": [
    "import pandas as pd\n",
    "\n",
    "setlur = pd.read_csv('../setlur.csv', sep='\t')\n",
    "\n",
    "transposed_setlur = setlur.T\n",
    "\n",
    "transposed_setlur"
   ],
   "metadata": {
    "collapsed": false
   },
   "id": "b0c364b943df2744"
  },
  {
   "cell_type": "code",
   "execution_count": null,
   "outputs": [],
   "source": [
    "from sklearn.decomposition import PCA\n",
    "from sklearn.manifold import TSNE\n",
    "\n",
    "# apply pca to setlur with 3 components\n",
    "pca = PCA(n_components=3)\n",
    "\n",
    "transposed_setlur = transposed_setlur.iloc[1:, :]\n",
    "\n",
    "pca_result = pca.fit_transform(transposed_setlur)\n",
    "\n",
    "transposed_setlur['pca-one'] = pca_result[:, 0]\n",
    "transposed_setlur['pca-two'] = pca_result[:, 1]\n",
    "transposed_setlur['pca-three'] = pca_result[:, 2]"
   ],
   "metadata": {
    "collapsed": false
   },
   "id": "96ca944980af8d1b"
  },
  {
   "cell_type": "code",
   "execution_count": null,
   "outputs": [],
   "source": [
    "plt.figure(figsize=(16, 10))\n",
    "\n",
    "sns.scatterplot(\n",
    "    x=\"pca-one\", y=\"pca-two\",\n",
    "    hue=\"y\",\n",
    "    palette=sns.color_palette(\"hls\", 10),\n",
    "    data=setlur,\n",
    "    legend=\"full\",\n",
    "    alpha=0.3\n",
    ")\n",
    "\n",
    "plt.show()"
   ],
   "metadata": {
    "collapsed": false
   },
   "id": "cd48fcaecb768422"
  },
  {
   "cell_type": "markdown",
   "source": [
    "## Exercise 6\n",
    "(...)"
   ],
   "metadata": {
    "collapsed": false
   },
   "id": "4c1fe966ca838a2a"
  }
 ],
 "metadata": {
  "kernelspec": {
   "display_name": "Python 3",
   "language": "python",
   "name": "python3"
  },
  "language_info": {
   "codemirror_mode": {
    "name": "ipython",
    "version": 2
   },
   "file_extension": ".py",
   "mimetype": "text/x-python",
   "name": "python",
   "nbconvert_exporter": "python",
   "pygments_lexer": "ipython2",
   "version": "2.7.6"
  }
 },
 "nbformat": 4,
 "nbformat_minor": 5
}
