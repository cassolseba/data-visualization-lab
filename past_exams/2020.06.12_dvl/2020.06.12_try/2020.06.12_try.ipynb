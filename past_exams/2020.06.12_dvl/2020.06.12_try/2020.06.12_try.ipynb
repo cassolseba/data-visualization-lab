{
 "cells": [
  {
   "cell_type": "markdown",
   "id": "d8641cdad271b072",
   "metadata": {
    "collapsed": false
   },
   "source": [
    "# Data Visualization Lab - Sebastiano Cassol - id: 229318\n",
    "> 12 - 06 - 2020"
   ]
  },
  {
   "cell_type": "markdown",
   "id": "36b49fe671e2fc7a",
   "metadata": {
    "collapsed": false
   },
   "source": [
    "## Exercise 1\n",
    "(...)"
   ]
  },
  {
   "cell_type": "markdown",
   "id": "661e471089aa3f67",
   "metadata": {
    "collapsed": false
   },
   "source": [
    "## Exercise 2\n",
    "(...)"
   ]
  },
  {
   "cell_type": "markdown",
   "id": "d549fef7cb92b147",
   "metadata": {
    "collapsed": false
   },
   "source": [
    "## Exercise 3\n",
    "Choropleth map of a geographical region (Europe, Asia, etc.) displaying one (or more) of the columns (HDI.Rank, HDI, CPI) from `economist_data.csv`."
   ]
  },
  {
   "cell_type": "code",
   "execution_count": 2,
   "id": "1ff79980d0f989fd",
   "metadata": {
    "collapsed": false,
    "ExecuteTime": {
     "end_time": "2023-09-01T10:16:50.766418Z",
     "start_time": "2023-09-01T10:16:50.497225Z"
    }
   },
   "outputs": [],
   "source": [
    "# import \n",
    "import pandas as pd"
   ]
  },
  {
   "cell_type": "code",
   "execution_count": 12,
   "id": "a8f611e054f22414",
   "metadata": {
    "collapsed": false,
    "ExecuteTime": {
     "end_time": "2023-09-01T10:18:53.734479Z",
     "start_time": "2023-09-01T10:18:53.722670Z"
    }
   },
   "outputs": [
    {
     "data": {
      "text/plain": "         Country  HDI.Rank    HDI  CPI             Region\n0    Afghanistan       172  0.398  1.5       Asia Pacific\n1        Albania        70  0.739  3.1  East EU Cemt Asia\n2        Algeria        96  0.698  2.9               MENA\n3         Angola       148  0.486  2.0                SSA\n4      Argentina        45  0.797  3.0           Americas\n..           ...       ...    ...  ...                ...\n168      Vanuatu       125  0.617  3.5       Asia Pacific\n169    Venezuela        73  0.735  1.9           Americas\n170        Yemen       154  0.462  2.1               MENA\n171       Zambia       164  0.430  3.2                SSA\n172     Zimbabwe       173  0.376  2.2                SSA\n\n[173 rows x 5 columns]",
      "text/html": "<div>\n<style scoped>\n    .dataframe tbody tr th:only-of-type {\n        vertical-align: middle;\n    }\n\n    .dataframe tbody tr th {\n        vertical-align: top;\n    }\n\n    .dataframe thead th {\n        text-align: right;\n    }\n</style>\n<table border=\"1\" class=\"dataframe\">\n  <thead>\n    <tr style=\"text-align: right;\">\n      <th></th>\n      <th>Country</th>\n      <th>HDI.Rank</th>\n      <th>HDI</th>\n      <th>CPI</th>\n      <th>Region</th>\n    </tr>\n  </thead>\n  <tbody>\n    <tr>\n      <th>0</th>\n      <td>Afghanistan</td>\n      <td>172</td>\n      <td>0.398</td>\n      <td>1.5</td>\n      <td>Asia Pacific</td>\n    </tr>\n    <tr>\n      <th>1</th>\n      <td>Albania</td>\n      <td>70</td>\n      <td>0.739</td>\n      <td>3.1</td>\n      <td>East EU Cemt Asia</td>\n    </tr>\n    <tr>\n      <th>2</th>\n      <td>Algeria</td>\n      <td>96</td>\n      <td>0.698</td>\n      <td>2.9</td>\n      <td>MENA</td>\n    </tr>\n    <tr>\n      <th>3</th>\n      <td>Angola</td>\n      <td>148</td>\n      <td>0.486</td>\n      <td>2.0</td>\n      <td>SSA</td>\n    </tr>\n    <tr>\n      <th>4</th>\n      <td>Argentina</td>\n      <td>45</td>\n      <td>0.797</td>\n      <td>3.0</td>\n      <td>Americas</td>\n    </tr>\n    <tr>\n      <th>...</th>\n      <td>...</td>\n      <td>...</td>\n      <td>...</td>\n      <td>...</td>\n      <td>...</td>\n    </tr>\n    <tr>\n      <th>168</th>\n      <td>Vanuatu</td>\n      <td>125</td>\n      <td>0.617</td>\n      <td>3.5</td>\n      <td>Asia Pacific</td>\n    </tr>\n    <tr>\n      <th>169</th>\n      <td>Venezuela</td>\n      <td>73</td>\n      <td>0.735</td>\n      <td>1.9</td>\n      <td>Americas</td>\n    </tr>\n    <tr>\n      <th>170</th>\n      <td>Yemen</td>\n      <td>154</td>\n      <td>0.462</td>\n      <td>2.1</td>\n      <td>MENA</td>\n    </tr>\n    <tr>\n      <th>171</th>\n      <td>Zambia</td>\n      <td>164</td>\n      <td>0.430</td>\n      <td>3.2</td>\n      <td>SSA</td>\n    </tr>\n    <tr>\n      <th>172</th>\n      <td>Zimbabwe</td>\n      <td>173</td>\n      <td>0.376</td>\n      <td>2.2</td>\n      <td>SSA</td>\n    </tr>\n  </tbody>\n</table>\n<p>173 rows × 5 columns</p>\n</div>"
     },
     "execution_count": 12,
     "metadata": {},
     "output_type": "execute_result"
    }
   ],
   "source": [
    "data = pd.read_csv(\"../economist_data.csv\")\n",
    "\n",
    "data"
   ]
  },
  {
   "cell_type": "code",
   "execution_count": 4,
   "id": "e588e7401b9be955",
   "metadata": {
    "collapsed": false,
    "ExecuteTime": {
     "end_time": "2023-09-01T10:16:56.952594Z",
     "start_time": "2023-09-01T10:16:56.941787Z"
    }
   },
   "outputs": [
    {
     "data": {
      "text/plain": "             HDI.Rank    HDI  CPI             Region\nCountry                                             \nAfghanistan       172  0.398  1.5       Asia Pacific\nAlbania            70  0.739  3.1  East EU Cemt Asia\nAlgeria            96  0.698  2.9               MENA\nAngola            148  0.486  2.0                SSA\nArgentina          45  0.797  3.0           Americas\n...               ...    ...  ...                ...\nVanuatu           125  0.617  3.5       Asia Pacific\nVenezuela          73  0.735  1.9           Americas\nYemen             154  0.462  2.1               MENA\nZambia            164  0.430  3.2                SSA\nZimbabwe          173  0.376  2.2                SSA\n\n[173 rows x 4 columns]",
      "text/html": "<div>\n<style scoped>\n    .dataframe tbody tr th:only-of-type {\n        vertical-align: middle;\n    }\n\n    .dataframe tbody tr th {\n        vertical-align: top;\n    }\n\n    .dataframe thead th {\n        text-align: right;\n    }\n</style>\n<table border=\"1\" class=\"dataframe\">\n  <thead>\n    <tr style=\"text-align: right;\">\n      <th></th>\n      <th>HDI.Rank</th>\n      <th>HDI</th>\n      <th>CPI</th>\n      <th>Region</th>\n    </tr>\n    <tr>\n      <th>Country</th>\n      <th></th>\n      <th></th>\n      <th></th>\n      <th></th>\n    </tr>\n  </thead>\n  <tbody>\n    <tr>\n      <th>Afghanistan</th>\n      <td>172</td>\n      <td>0.398</td>\n      <td>1.5</td>\n      <td>Asia Pacific</td>\n    </tr>\n    <tr>\n      <th>Albania</th>\n      <td>70</td>\n      <td>0.739</td>\n      <td>3.1</td>\n      <td>East EU Cemt Asia</td>\n    </tr>\n    <tr>\n      <th>Algeria</th>\n      <td>96</td>\n      <td>0.698</td>\n      <td>2.9</td>\n      <td>MENA</td>\n    </tr>\n    <tr>\n      <th>Angola</th>\n      <td>148</td>\n      <td>0.486</td>\n      <td>2.0</td>\n      <td>SSA</td>\n    </tr>\n    <tr>\n      <th>Argentina</th>\n      <td>45</td>\n      <td>0.797</td>\n      <td>3.0</td>\n      <td>Americas</td>\n    </tr>\n    <tr>\n      <th>...</th>\n      <td>...</td>\n      <td>...</td>\n      <td>...</td>\n      <td>...</td>\n    </tr>\n    <tr>\n      <th>Vanuatu</th>\n      <td>125</td>\n      <td>0.617</td>\n      <td>3.5</td>\n      <td>Asia Pacific</td>\n    </tr>\n    <tr>\n      <th>Venezuela</th>\n      <td>73</td>\n      <td>0.735</td>\n      <td>1.9</td>\n      <td>Americas</td>\n    </tr>\n    <tr>\n      <th>Yemen</th>\n      <td>154</td>\n      <td>0.462</td>\n      <td>2.1</td>\n      <td>MENA</td>\n    </tr>\n    <tr>\n      <th>Zambia</th>\n      <td>164</td>\n      <td>0.430</td>\n      <td>3.2</td>\n      <td>SSA</td>\n    </tr>\n    <tr>\n      <th>Zimbabwe</th>\n      <td>173</td>\n      <td>0.376</td>\n      <td>2.2</td>\n      <td>SSA</td>\n    </tr>\n  </tbody>\n</table>\n<p>173 rows × 4 columns</p>\n</div>"
     },
     "execution_count": 4,
     "metadata": {},
     "output_type": "execute_result"
    }
   ],
   "source": [
    "# transform the country column to index\n",
    "# data = data.set_index('Country')\n",
    "# data"
   ]
  },
  {
   "cell_type": "code",
   "execution_count": 13,
   "id": "9b498d5a683b9a4b",
   "metadata": {
    "collapsed": false,
    "ExecuteTime": {
     "end_time": "2023-09-01T10:18:55.784111Z",
     "start_time": "2023-09-01T10:18:55.775469Z"
    }
   },
   "outputs": [],
   "source": [
    "# retrieve the list of countries\n",
    "countries = data.Country.unique().tolist()"
   ]
  },
  {
   "cell_type": "markdown",
   "id": "b0ccf02d65e89f99",
   "metadata": {
    "collapsed": false
   },
   "source": [
    "## Exercise 4\n",
    "(...)"
   ]
  },
  {
   "cell_type": "markdown",
   "id": "1374a6c1c1385f7d",
   "metadata": {
    "collapsed": false
   },
   "source": [
    "## Exercise 5\n",
    "(...)"
   ]
  },
  {
   "cell_type": "markdown",
   "id": "4c1fe966ca838a2a",
   "metadata": {
    "collapsed": false
   },
   "source": [
    "## Exercise 6\n",
    "(...)"
   ]
  }
 ],
 "metadata": {
  "kernelspec": {
   "display_name": "Python 3",
   "language": "python",
   "name": "python3"
  },
  "language_info": {
   "codemirror_mode": {
    "name": "ipython",
    "version": 3
   },
   "file_extension": ".py",
   "mimetype": "text/x-python",
   "name": "python",
   "nbconvert_exporter": "python",
   "pygments_lexer": "ipython3",
   "version": "3.11.4"
  }
 },
 "nbformat": 4,
 "nbformat_minor": 5
}
