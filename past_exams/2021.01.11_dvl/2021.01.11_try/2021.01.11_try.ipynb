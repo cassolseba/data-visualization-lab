{
 "cells": [
  {
   "cell_type": "markdown",
   "source": [
    "# Data Visualization Lab - Sebastiano Cassol - id: 229318\n",
    "> 11 - 01 - 2021"
   ],
   "metadata": {
    "collapsed": false
   },
   "id": "d8641cdad271b072"
  },
  {
   "cell_type": "markdown",
   "source": [
    "## Exercise 1\n",
    "(...)"
   ],
   "metadata": {
    "collapsed": false
   },
   "id": "36b49fe671e2fc7a"
  },
  {
   "cell_type": "markdown",
   "source": [
    "## Exercise 2\n",
    "(...)"
   ],
   "metadata": {
    "collapsed": false
   },
   "id": "661e471089aa3f67"
  },
  {
   "cell_type": "markdown",
   "source": [
    "## Exercise 3\n",
    "(...)"
   ],
   "metadata": {
    "collapsed": false
   },
   "id": "d549fef7cb92b147"
  },
  {
   "cell_type": "markdown",
   "source": [
    "## Exercise 4\n",
    "Choropleth map of US states using `states_geo.tsv` and `states_vote.tsv`."
   ],
   "metadata": {
    "collapsed": false
   },
   "id": "b0ccf02d65e89f99"
  },
  {
   "cell_type": "code",
   "execution_count": null,
   "outputs": [],
   "source": [
    "# imports\n",
    "import pandas as pd"
   ],
   "metadata": {
    "collapsed": false
   },
   "id": "8261d65c0e897909"
  },
  {
   "cell_type": "code",
   "execution_count": null,
   "outputs": [],
   "source": [
    "geo = pd.read_csv(\"../states_geo.tsv\")\n",
    "votes = pd.read_csv(\"../states_vote.tsv\")"
   ],
   "metadata": {
    "collapsed": false
   },
   "id": "80be873390266627"
  },
  {
   "cell_type": "code",
   "execution_count": null,
   "outputs": [],
   "source": [
    "geo"
   ],
   "metadata": {
    "collapsed": false
   },
   "id": "48a67bc698059b57"
  },
  {
   "cell_type": "code",
   "execution_count": null,
   "outputs": [],
   "source": [
    "votes"
   ],
   "metadata": {
    "collapsed": false
   },
   "id": "72ac35b9a44e0436"
  },
  {
   "cell_type": "code",
   "execution_count": null,
   "outputs": [],
   "source": [
    "states_from_geo = geo['state'].unique().tolist()\n",
    "states_from_vote = votes['state'].unique().tolist()"
   ],
   "metadata": {
    "collapsed": false
   },
   "id": "c7abfcf50ec16e7a"
  },
  {
   "cell_type": "code",
   "execution_count": null,
   "outputs": [],
   "source": [
    "# how many states are in common between the two data frames?\n",
    "common_states = set(states_from_vote) & set(states_from_geo)\n",
    "\n",
    "print(\"Common states len:\", len(common_states))\n",
    "print(\"States from geo len:\", len(states_from_geo))\n",
    "print(\"States from vote len:\", len(states_from_vote))"
   ],
   "metadata": {
    "collapsed": false
   },
   "id": "7f525bc90263f439"
  },
  {
   "cell_type": "code",
   "execution_count": null,
   "outputs": [],
   "source": [
    "# We need to remove some states from vote, but what?\n",
    "states_to_delete = set(states_from_vote) - common_states\n",
    "\n",
    "states_to_delete"
   ],
   "metadata": {
    "collapsed": false
   },
   "id": "ded21a7413f44e03"
  },
  {
   "cell_type": "code",
   "execution_count": null,
   "outputs": [],
   "source": [
    "# Let's remove this rows.\n",
    "index = votes[votes['state'] == 'Maine 1st District'].index[0]\n",
    "\n",
    "index # this is our index\n",
    "# we need to do this for all states to remove"
   ],
   "metadata": {
    "collapsed": false
   },
   "id": "50a7fa07fb792524"
  },
  {
   "cell_type": "code",
   "execution_count": null,
   "outputs": [],
   "source": [
    "# remove exceeding states\n",
    "for states in states_to_delete:\n",
    "    ind = votes[votes['state'] == states].index[0]\n",
    "    votes = votes.drop(ind)\n",
    "    \n",
    "print(\"New length of votes data frame is\", len(votes))"
   ],
   "metadata": {
    "collapsed": false
   },
   "id": "4ba7dce96f6818eb"
  },
  {
   "cell_type": "code",
   "execution_count": null,
   "outputs": [],
   "source": [
    "votes.reset_index(inplace=True)\n",
    "votes.pop('index') # remove (old) index from votes"
   ],
   "metadata": {
    "collapsed": false
   },
   "id": "a228b52573be581"
  },
  {
   "cell_type": "code",
   "execution_count": null,
   "outputs": [],
   "source": [
    "votes"
   ],
   "metadata": {
    "collapsed": false
   },
   "id": "9e525aca7f5b2614"
  },
  {
   "cell_type": "markdown",
   "source": [
    "We need to merge the data frames. We can use a homemade trick iterating with a for, or we can use the `merge` pandas function. We'll try the second."
   ],
   "metadata": {
    "collapsed": false
   },
   "id": "558a4f9321c29ef8"
  },
  {
   "cell_type": "code",
   "execution_count": null,
   "outputs": [],
   "source": [
    "merged_df = pd.merge(geo, votes, left_on=\"state\", right_on=\"state\")\n",
    "\n",
    "merged_df"
   ],
   "metadata": {
    "collapsed": false
   },
   "id": "e755b52d768e04eb"
  },
  {
   "cell_type": "markdown",
   "source": [
    "And now we can start with the choropleth map."
   ],
   "metadata": {
    "collapsed": false
   },
   "id": "70f9eee119293122"
  },
  {
   "cell_type": "code",
   "execution_count": null,
   "outputs": [],
   "source": [
    "#imports\n",
    "import json\n",
    "import plotly.express as px"
   ],
   "metadata": {
    "collapsed": false
   },
   "id": "8392917a6fb0d38c"
  },
  {
   "cell_type": "code",
   "execution_count": null,
   "outputs": [],
   "source": [
    "with open('../../../geojson/us-state-boundaries.geojson') as data:\n",
    "    us_json = json.load(data)\n",
    "    \n",
    "us_json"
   ],
   "metadata": {
    "collapsed": false
   },
   "id": "b4c1c551d412f9aa"
  },
  {
   "cell_type": "code",
   "execution_count": null,
   "outputs": [],
   "source": [
    "# let's see how the names of the states appear in the geo json file\n",
    "names_in_json = []\n",
    "for i in range(len(us_json['features'])):\n",
    "    names_in_json.append(us_json['features'][i]['properties']['name'])\n",
    "\n",
    "names_in_json"
   ],
   "metadata": {
    "collapsed": false
   },
   "id": "78b73e2c2dfe9150"
  },
  {
   "cell_type": "code",
   "execution_count": null,
   "outputs": [],
   "source": [
    "# choropleth map\n",
    "fig = px.choropleth_mapbox(merged_df,\n",
    "                           geojson=us_json,\n",
    "                           locations='state',\n",
    "                           featureidkey='properties.name',\n",
    "                           color='called',\n",
    "                           color_continuous_scale='Viridis',\n",
    "                           range_color=(0.01, 2),\n",
    "                           labels={'Poverty':'poverty', 'Party':'called'},\n",
    "                           title='Poverty & Political Party',\n",
    "                           hover_data=['poverty', 'called'],\n",
    "                           center={'lon': -70, 'lat': 40},\n",
    "                           mapbox_style='open-street-map',\n",
    "                           zoom=2)\n",
    "\n",
    "fig.update_geos(showcountries=False, showcoastlines=False, showland=False, fitbounds=\"locations\")\n",
    "fig.update_layout(margin={\"r\":0,\"t\":40,\"l\":0,\"b\":0})\n",
    "fig.show()"
   ],
   "metadata": {
    "collapsed": false
   },
   "id": "c5a8577dc45fea3e"
  },
  {
   "cell_type": "markdown",
   "source": [
    "## Exercise 5\n",
    "Apply t-SNE and MDS to `Leukemia.csv`."
   ],
   "metadata": {
    "collapsed": false
   },
   "id": "1374a6c1c1385f7d"
  },
  {
   "cell_type": "code",
   "execution_count": null,
   "outputs": [],
   "source": [
    "import pandas as pd\n",
    "import time\n",
    "from sklearn.manifold import TSNE"
   ],
   "metadata": {
    "collapsed": false
   },
   "id": "6f300f1ff15a6bad"
  },
  {
   "cell_type": "code",
   "execution_count": null,
   "outputs": [],
   "source": [
    "data = pd.read_csv('../Leukemia.csv')\n",
    "\n",
    "data"
   ],
   "metadata": {
    "collapsed": false
   },
   "id": "63661869ba286bd1"
  },
  {
   "cell_type": "code",
   "execution_count": null,
   "outputs": [],
   "source": [
    "# apply tsne\n",
    "time_start = time.time()\n",
    "tsne = TSNE(n_components=2, verbose=1, perplexity=40, n_iter=300)\n",
    "tsne_results = tsne.fit_transform(data.iloc[:, :-1]) # remove last column (label)\n",
    "print(\"t-SNE done! Time elapsed: {} sec\".format(time.time()-time_start))\n",
    "\n"
   ],
   "metadata": {
    "collapsed": false
   },
   "id": "4c0e44723cb52fed"
  },
  {
   "cell_type": "code",
   "execution_count": null,
   "outputs": [],
   "source": [
    "tsne_results"
   ],
   "metadata": {
    "collapsed": false
   },
   "id": "bb4460a7a2c59fa4"
  },
  {
   "cell_type": "code",
   "execution_count": null,
   "outputs": [],
   "source": [
    "import matplotlib.pyplot as plt\n",
    "import seaborn as sns\n",
    "# visualize t-sne results\n",
    "data['tsne-2d-one'] = tsne_results[:,0]\n",
    "data['tsne-2d-two'] = tsne_results[:,1]\n",
    "\n",
    "plt.figure(figsize=(16, 10))\n",
    "sns.scatterplot(\n",
    "    x=\"tsne-2d-one\",\n",
    "    y=\"tsne-2d-two\",\n",
    "    hue=\"Class\",\n",
    "    palette=sns.color_palette(\"hls\", 4),\n",
    "    data=data,\n",
    "    legend=\"full\",\n",
    "    alpha=1\n",
    ")\n",
    "plt.title('t-SNE applied to Leukemia dataset')\n",
    "plt.show()"
   ],
   "metadata": {
    "collapsed": false
   },
   "id": "3b185231ce1bc787"
  },
  {
   "cell_type": "code",
   "execution_count": null,
   "outputs": [],
   "source": [
    "from sklearn.manifold import MDS\n",
    "# apply mds\n",
    "\n",
    "data = pd.read_csv('../Leukemia.csv')"
   ],
   "metadata": {
    "collapsed": false
   },
   "id": "70f9e18a6446c38e"
  },
  {
   "cell_type": "code",
   "execution_count": null,
   "outputs": [],
   "source": [
    "embedding = MDS(n_components=2)\n",
    "X_transformed = embedding.fit_transform(data.iloc[:,:-1])"
   ],
   "metadata": {
    "collapsed": false
   },
   "id": "e5d840402395fae6"
  },
  {
   "cell_type": "code",
   "execution_count": null,
   "outputs": [],
   "source": [
    "data['mds-2d-one'] = X_transformed[:,0]\n",
    "data['mds-2d-two'] = X_transformed[:,1]\n",
    "\n",
    "plt.figure(figsize=(16,10))\n",
    "sns.scatterplot(\n",
    "    x=\"mds-2d-one\",\n",
    "    y=\"mds-2d-two\",\n",
    "    hue=\"Class\",\n",
    "    palette=sns.color_palette(\"hls\", 4),\n",
    "    data=data,\n",
    "    legend=\"full\",\n",
    "    alpha=1\n",
    ")\n",
    "\n",
    "plt.title('t-SNE applied to Leukemia dataset')\n",
    "plt.show()"
   ],
   "metadata": {
    "collapsed": false
   },
   "id": "b26376efcbe9adfe"
  },
  {
   "cell_type": "markdown",
   "source": [
    "## Exercise 6\n",
    "Replicate that plot! With `iris.csv`."
   ],
   "metadata": {
    "collapsed": false
   },
   "id": "4c1fe966ca838a2a"
  },
  {
   "cell_type": "code",
   "execution_count": 27,
   "outputs": [
    {
     "data": {
      "text/plain": "     sepal length  sepal width  petal length  petal width           class\n0             5.1          3.5           1.4          0.2     Iris-setosa\n1             4.9          3.0           1.4          0.2     Iris-setosa\n2             4.7          3.2           1.3          0.2     Iris-setosa\n3             4.6          3.1           1.5          0.2     Iris-setosa\n4             5.0          3.6           1.4          0.2     Iris-setosa\n..            ...          ...           ...          ...             ...\n145           6.7          3.0           5.2          2.3  Iris-virginica\n146           6.3          2.5           5.0          1.9  Iris-virginica\n147           6.5          3.0           5.2          2.0  Iris-virginica\n148           6.2          3.4           5.4          2.3  Iris-virginica\n149           5.9          3.0           5.1          1.8  Iris-virginica\n\n[150 rows x 5 columns]",
      "text/html": "<div>\n<style scoped>\n    .dataframe tbody tr th:only-of-type {\n        vertical-align: middle;\n    }\n\n    .dataframe tbody tr th {\n        vertical-align: top;\n    }\n\n    .dataframe thead th {\n        text-align: right;\n    }\n</style>\n<table border=\"1\" class=\"dataframe\">\n  <thead>\n    <tr style=\"text-align: right;\">\n      <th></th>\n      <th>sepal length</th>\n      <th>sepal width</th>\n      <th>petal length</th>\n      <th>petal width</th>\n      <th>class</th>\n    </tr>\n  </thead>\n  <tbody>\n    <tr>\n      <th>0</th>\n      <td>5.1</td>\n      <td>3.5</td>\n      <td>1.4</td>\n      <td>0.2</td>\n      <td>Iris-setosa</td>\n    </tr>\n    <tr>\n      <th>1</th>\n      <td>4.9</td>\n      <td>3.0</td>\n      <td>1.4</td>\n      <td>0.2</td>\n      <td>Iris-setosa</td>\n    </tr>\n    <tr>\n      <th>2</th>\n      <td>4.7</td>\n      <td>3.2</td>\n      <td>1.3</td>\n      <td>0.2</td>\n      <td>Iris-setosa</td>\n    </tr>\n    <tr>\n      <th>3</th>\n      <td>4.6</td>\n      <td>3.1</td>\n      <td>1.5</td>\n      <td>0.2</td>\n      <td>Iris-setosa</td>\n    </tr>\n    <tr>\n      <th>4</th>\n      <td>5.0</td>\n      <td>3.6</td>\n      <td>1.4</td>\n      <td>0.2</td>\n      <td>Iris-setosa</td>\n    </tr>\n    <tr>\n      <th>...</th>\n      <td>...</td>\n      <td>...</td>\n      <td>...</td>\n      <td>...</td>\n      <td>...</td>\n    </tr>\n    <tr>\n      <th>145</th>\n      <td>6.7</td>\n      <td>3.0</td>\n      <td>5.2</td>\n      <td>2.3</td>\n      <td>Iris-virginica</td>\n    </tr>\n    <tr>\n      <th>146</th>\n      <td>6.3</td>\n      <td>2.5</td>\n      <td>5.0</td>\n      <td>1.9</td>\n      <td>Iris-virginica</td>\n    </tr>\n    <tr>\n      <th>147</th>\n      <td>6.5</td>\n      <td>3.0</td>\n      <td>5.2</td>\n      <td>2.0</td>\n      <td>Iris-virginica</td>\n    </tr>\n    <tr>\n      <th>148</th>\n      <td>6.2</td>\n      <td>3.4</td>\n      <td>5.4</td>\n      <td>2.3</td>\n      <td>Iris-virginica</td>\n    </tr>\n    <tr>\n      <th>149</th>\n      <td>5.9</td>\n      <td>3.0</td>\n      <td>5.1</td>\n      <td>1.8</td>\n      <td>Iris-virginica</td>\n    </tr>\n  </tbody>\n</table>\n<p>150 rows × 5 columns</p>\n</div>"
     },
     "execution_count": 27,
     "metadata": {},
     "output_type": "execute_result"
    }
   ],
   "source": [
    "iris = pd.read_csv('../iris.csv')\n",
    "\n",
    "iris"
   ],
   "metadata": {
    "collapsed": false,
    "ExecuteTime": {
     "end_time": "2023-08-31T21:51:14.387725Z",
     "start_time": "2023-08-31T21:51:14.379401Z"
    }
   },
   "id": "c5156d1e79c17884"
  },
  {
   "cell_type": "code",
   "execution_count": 28,
   "outputs": [
    {
     "data": {
      "text/plain": "sepal length            5.1\nsepal width             3.5\npetal length            1.4\npetal width             0.2\nclass           Iris-setosa\nName: 0, dtype: object"
     },
     "execution_count": 28,
     "metadata": {},
     "output_type": "execute_result"
    }
   ],
   "source": [
    "iris.loc[0]"
   ],
   "metadata": {
    "collapsed": false,
    "ExecuteTime": {
     "end_time": "2023-08-31T21:51:16.261370Z",
     "start_time": "2023-08-31T21:51:16.235774Z"
    }
   },
   "id": "da3f27338a767843"
  },
  {
   "cell_type": "code",
   "execution_count": 44,
   "outputs": [
    {
     "data": {
      "text/plain": "['Iris-setosa', 'Iris-versicolor', 'Iris-virginica']"
     },
     "execution_count": 44,
     "metadata": {},
     "output_type": "execute_result"
    }
   ],
   "source": [
    "labels = iris['class'].unique().tolist()\n",
    "\n",
    "labels"
   ],
   "metadata": {
    "collapsed": false,
    "ExecuteTime": {
     "end_time": "2023-08-31T21:58:44.079158Z",
     "start_time": "2023-08-31T21:58:44.057721Z"
    }
   },
   "id": "8496da1aeae22880"
  },
  {
   "cell_type": "code",
   "execution_count": 32,
   "outputs": [
    {
     "data": {
      "text/plain": "150"
     },
     "execution_count": 32,
     "metadata": {},
     "output_type": "execute_result"
    }
   ],
   "source": [
    "len(iris)"
   ],
   "metadata": {
    "collapsed": false,
    "ExecuteTime": {
     "end_time": "2023-08-31T21:52:34.414255Z",
     "start_time": "2023-08-31T21:52:34.387864Z"
    }
   },
   "id": "3d384cfc68d79d0c"
  },
  {
   "cell_type": "code",
   "execution_count": 33,
   "outputs": [
    {
     "data": {
      "text/plain": "['.',\n '.',\n '.',\n '.',\n '.',\n '.',\n '.',\n '.',\n '.',\n '.',\n '.',\n '.',\n '.',\n '.',\n '.',\n '.',\n '.',\n '.',\n '.',\n '.',\n '.',\n '.',\n '.',\n '.',\n '.',\n '.',\n '.',\n '.',\n '.',\n '.',\n '.',\n '.',\n '.',\n '.',\n '.',\n '.',\n '.',\n '.',\n '.',\n '.',\n '.',\n '.',\n '.',\n '.',\n '.',\n '.',\n '.',\n '.',\n '.',\n '.',\n 'd',\n 'd',\n 'd',\n 'd',\n 'd',\n 'd',\n 'd',\n 'd',\n 'd',\n 'd',\n 'd',\n 'd',\n 'd',\n 'd',\n 'd',\n 'd',\n 'd',\n 'd',\n 'd',\n 'd',\n 'd',\n 'd',\n 'd',\n 'd',\n 'd',\n 'd',\n 'd',\n 'd',\n 'd',\n 'd',\n 'd',\n 'd',\n 'd',\n 'd',\n 'd',\n 'd',\n 'd',\n 'd',\n 'd',\n 'd',\n 'd',\n 'd',\n 'd',\n 'd',\n 'd',\n 'd',\n 'd',\n 'd',\n 'd',\n 'd',\n '4',\n '4',\n '4',\n '4',\n '4',\n '4',\n '4',\n '4',\n '4',\n '4',\n '4',\n '4',\n '4',\n '4',\n '4',\n '4',\n '4',\n '4',\n '4',\n '4',\n '4',\n '4',\n '4',\n '4',\n '4',\n '4',\n '4',\n '4',\n '4',\n '4',\n '4',\n '4',\n '4',\n '4',\n '4',\n '4',\n '4',\n '4',\n '4',\n '4',\n '4',\n '4',\n '4',\n '4',\n '4',\n '4',\n '4',\n '4',\n '4',\n '4']"
     },
     "execution_count": 33,
     "metadata": {},
     "output_type": "execute_result"
    }
   ],
   "source": [
    "markers = []\n",
    "for i in range(len(iris)):\n",
    "    if iris.loc[i]['class'] == labels[0]:\n",
    "        markers.append('.')\n",
    "    elif iris.loc[i]['class'] == labels[1]:\n",
    "        markers.append('d')\n",
    "    elif iris.loc[i]['class'] == labels[2]:\n",
    "        markers.append('4')\n",
    "        \n",
    "markers"
   ],
   "metadata": {
    "collapsed": false,
    "ExecuteTime": {
     "end_time": "2023-08-31T21:54:16.328067Z",
     "start_time": "2023-08-31T21:54:16.303056Z"
    }
   },
   "id": "58387a2fc2b6043c"
  },
  {
   "cell_type": "code",
   "execution_count": 34,
   "outputs": [],
   "source": [
    "colors = ['#007ad6', 'orange', 'green']"
   ],
   "metadata": {
    "collapsed": false,
    "ExecuteTime": {
     "end_time": "2023-08-31T21:56:21.010552Z",
     "start_time": "2023-08-31T21:56:21.000480Z"
    }
   },
   "id": "5d4e05e8b67eb2d1"
  },
  {
   "cell_type": "code",
   "execution_count": 55,
   "outputs": [
    {
     "data": {
      "text/plain": "<Figure size 600x600 with 3 Axes>",
      "image/png": "[encoded data removed]"
     },
     "metadata": {},
     "output_type": "display_data"
    }
   ],
   "source": [
    "import seaborn as sns\n",
    "\n",
    "sns.set_style('whitegrid')\n",
    "fig = sns.jointplot(\n",
    "    data=iris,\n",
    "    x='sepal length',\n",
    "    y='sepal width',\n",
    "    hue=\"class\",\n",
    "    style=markers,\n",
    "    legend=False,\n",
    "    alpha=.4\n",
    ")\n",
    "\n",
    "fig.ax_marg_x.text(4, 0.33, labels[0], color=colors[0])\n",
    "fig.ax_marg_x.text(5.5, 0.25, labels[1], color=colors[1])\n",
    "fig.ax_marg_x.text(8, 0.1, labels[2], color=colors[2])\n",
    "\n",
    "plt.show()"
   ],
   "metadata": {
    "collapsed": false,
    "ExecuteTime": {
     "end_time": "2023-08-31T22:00:11.584202Z",
     "start_time": "2023-08-31T22:00:11.367821Z"
    }
   },
   "id": "6db24f4f5d3b6808"
  }
 ],
 "metadata": {
  "kernelspec": {
   "display_name": "Python 3",
   "language": "python",
   "name": "python3"
  },
  "language_info": {
   "codemirror_mode": {
    "name": "ipython",
    "version": 2
   },
   "file_extension": ".py",
   "mimetype": "text/x-python",
   "name": "python",
   "nbconvert_exporter": "python",
   "pygments_lexer": "ipython2",
   "version": "2.7.6"
  }
 },
 "nbformat": 4,
 "nbformat_minor": 5
}
