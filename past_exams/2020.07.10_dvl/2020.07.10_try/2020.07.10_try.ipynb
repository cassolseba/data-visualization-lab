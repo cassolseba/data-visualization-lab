{
 "cells": [
  {
   "cell_type": "markdown",
   "source": [
    "# 2020 - 07 - 10 | Exam"
   ],
   "metadata": {
    "collapsed": false
   }
  },
  {
   "cell_type": "markdown",
   "source": [
    "## Ex. 4 - Choropleth map"
   ],
   "metadata": {
    "collapsed": false
   }
  },
  {
   "cell_type": "code",
   "execution_count": 1,
   "metadata": {
    "collapsed": true,
    "ExecuteTime": {
     "end_time": "2023-07-13T21:45:34.565287Z",
     "start_time": "2023-07-13T21:45:34.541949Z"
    }
   },
   "outputs": [
    {
     "data": {
      "text/plain": "          dateRep  day  month  year  cases  deaths countriesAndTerritories  \\\n0      05/07/2020    5      7  2020    348       7             Afghanistan   \n1      04/07/2020    4      7  2020    302      12             Afghanistan   \n2      03/07/2020    3      7  2020    186      33             Afghanistan   \n3      02/07/2020    2      7  2020    319      28             Afghanistan   \n4      01/07/2020    1      7  2020    279      13             Afghanistan   \n...           ...  ...    ...   ...    ...     ...                     ...   \n27826  25/03/2020   25      3  2020      0       0                Zimbabwe   \n27827  24/03/2020   24      3  2020      0       1                Zimbabwe   \n27828  23/03/2020   23      3  2020      0       0                Zimbabwe   \n27829  22/03/2020   22      3  2020      1       0                Zimbabwe   \n27830  21/03/2020   21      3  2020      1       0                Zimbabwe   \n\n      geoId countryterritoryCode  popData2019 continentExp  \n0        AF                  AFG   38041757.0         Asia  \n1        AF                  AFG   38041757.0         Asia  \n2        AF                  AFG   38041757.0         Asia  \n3        AF                  AFG   38041757.0         Asia  \n4        AF                  AFG   38041757.0         Asia  \n...     ...                  ...          ...          ...  \n27826    ZW                  ZWE   14645473.0       Africa  \n27827    ZW                  ZWE   14645473.0       Africa  \n27828    ZW                  ZWE   14645473.0       Africa  \n27829    ZW                  ZWE   14645473.0       Africa  \n27830    ZW                  ZWE   14645473.0       Africa  \n\n[27831 rows x 11 columns]",
      "text/html": "<div>\n<style scoped>\n    .dataframe tbody tr th:only-of-type {\n        vertical-align: middle;\n    }\n\n    .dataframe tbody tr th {\n        vertical-align: top;\n    }\n\n    .dataframe thead th {\n        text-align: right;\n    }\n</style>\n<table border=\"1\" class=\"dataframe\">\n  <thead>\n    <tr style=\"text-align: right;\">\n      <th></th>\n      <th>dateRep</th>\n      <th>day</th>\n      <th>month</th>\n      <th>year</th>\n      <th>cases</th>\n      <th>deaths</th>\n      <th>countriesAndTerritories</th>\n      <th>geoId</th>\n      <th>countryterritoryCode</th>\n      <th>popData2019</th>\n      <th>continentExp</th>\n    </tr>\n  </thead>\n  <tbody>\n    <tr>\n      <th>0</th>\n      <td>05/07/2020</td>\n      <td>5</td>\n      <td>7</td>\n      <td>2020</td>\n      <td>348</td>\n      <td>7</td>\n      <td>Afghanistan</td>\n      <td>AF</td>\n      <td>AFG</td>\n      <td>38041757.0</td>\n      <td>Asia</td>\n    </tr>\n    <tr>\n      <th>1</th>\n      <td>04/07/2020</td>\n      <td>4</td>\n      <td>7</td>\n      <td>2020</td>\n      <td>302</td>\n      <td>12</td>\n      <td>Afghanistan</td>\n      <td>AF</td>\n      <td>AFG</td>\n      <td>38041757.0</td>\n      <td>Asia</td>\n    </tr>\n    <tr>\n      <th>2</th>\n      <td>03/07/2020</td>\n      <td>3</td>\n      <td>7</td>\n      <td>2020</td>\n      <td>186</td>\n      <td>33</td>\n      <td>Afghanistan</td>\n      <td>AF</td>\n      <td>AFG</td>\n      <td>38041757.0</td>\n      <td>Asia</td>\n    </tr>\n    <tr>\n      <th>3</th>\n      <td>02/07/2020</td>\n      <td>2</td>\n      <td>7</td>\n      <td>2020</td>\n      <td>319</td>\n      <td>28</td>\n      <td>Afghanistan</td>\n      <td>AF</td>\n      <td>AFG</td>\n      <td>38041757.0</td>\n      <td>Asia</td>\n    </tr>\n    <tr>\n      <th>4</th>\n      <td>01/07/2020</td>\n      <td>1</td>\n      <td>7</td>\n      <td>2020</td>\n      <td>279</td>\n      <td>13</td>\n      <td>Afghanistan</td>\n      <td>AF</td>\n      <td>AFG</td>\n      <td>38041757.0</td>\n      <td>Asia</td>\n    </tr>\n    <tr>\n      <th>...</th>\n      <td>...</td>\n      <td>...</td>\n      <td>...</td>\n      <td>...</td>\n      <td>...</td>\n      <td>...</td>\n      <td>...</td>\n      <td>...</td>\n      <td>...</td>\n      <td>...</td>\n      <td>...</td>\n    </tr>\n    <tr>\n      <th>27826</th>\n      <td>25/03/2020</td>\n      <td>25</td>\n      <td>3</td>\n      <td>2020</td>\n      <td>0</td>\n      <td>0</td>\n      <td>Zimbabwe</td>\n      <td>ZW</td>\n      <td>ZWE</td>\n      <td>14645473.0</td>\n      <td>Africa</td>\n    </tr>\n    <tr>\n      <th>27827</th>\n      <td>24/03/2020</td>\n      <td>24</td>\n      <td>3</td>\n      <td>2020</td>\n      <td>0</td>\n      <td>1</td>\n      <td>Zimbabwe</td>\n      <td>ZW</td>\n      <td>ZWE</td>\n      <td>14645473.0</td>\n      <td>Africa</td>\n    </tr>\n    <tr>\n      <th>27828</th>\n      <td>23/03/2020</td>\n      <td>23</td>\n      <td>3</td>\n      <td>2020</td>\n      <td>0</td>\n      <td>0</td>\n      <td>Zimbabwe</td>\n      <td>ZW</td>\n      <td>ZWE</td>\n      <td>14645473.0</td>\n      <td>Africa</td>\n    </tr>\n    <tr>\n      <th>27829</th>\n      <td>22/03/2020</td>\n      <td>22</td>\n      <td>3</td>\n      <td>2020</td>\n      <td>1</td>\n      <td>0</td>\n      <td>Zimbabwe</td>\n      <td>ZW</td>\n      <td>ZWE</td>\n      <td>14645473.0</td>\n      <td>Africa</td>\n    </tr>\n    <tr>\n      <th>27830</th>\n      <td>21/03/2020</td>\n      <td>21</td>\n      <td>3</td>\n      <td>2020</td>\n      <td>1</td>\n      <td>0</td>\n      <td>Zimbabwe</td>\n      <td>ZW</td>\n      <td>ZWE</td>\n      <td>14645473.0</td>\n      <td>Africa</td>\n    </tr>\n  </tbody>\n</table>\n<p>27831 rows × 11 columns</p>\n</div>"
     },
     "execution_count": 1,
     "metadata": {},
     "output_type": "execute_result"
    }
   ],
   "source": [
    "import pandas as pd\n",
    "\n",
    "covid = pd.read_csv('covid.csv')\n",
    "\n",
    "covid\n"
   ]
  },
  {
   "cell_type": "code",
   "execution_count": 3,
   "outputs": [],
   "source": [
    "month = covid['month'].unique().tolist() # get months\n",
    "\n",
    "year = covid['year'].unique().tolist() # get years\n",
    "\n",
    "america = covid[covid['continentExp'] == 'America']\n",
    "\n",
    "countries = america['countriesAndTerritories'].unique().tolist() # get all countries in america's continent\n",
    "\n",
    "america_2020 = america[america['year'] == 2020] # get only rows that refer to year 2020\n",
    "america_2020.set_index('countriesAndTerritories', inplace=True) # reset indexes"
   ],
   "metadata": {
    "collapsed": false,
    "ExecuteTime": {
     "end_time": "2023-07-13T21:49:30.756752Z",
     "start_time": "2023-07-13T21:49:30.740058Z"
    }
   }
  },
  {
   "cell_type": "code",
   "execution_count": 5,
   "outputs": [
    {
     "data": {
      "text/plain": "                            dateRep  day  month  year  cases  deaths geoId  \\\ncountriesAndTerritories                                                      \nBrazil                   05/07/2020    5      7  2020  37923    1091    BR   \nBrazil                   04/07/2020    4      7  2020  42223    1290    BR   \nBrazil                   03/07/2020    3      7  2020  48105    1252    BR   \nBrazil                   02/07/2020    2      7  2020  46712    1038    BR   \nBrazil                   01/07/2020    1      7  2020  33846    1280    BR   \n...                             ...  ...    ...   ...    ...     ...   ...   \nBrazil                   05/01/2020    5      1  2020      0       0    BR   \nBrazil                   04/01/2020    4      1  2020      0       0    BR   \nBrazil                   03/01/2020    3      1  2020      0       0    BR   \nBrazil                   02/01/2020    2      1  2020      0       0    BR   \nBrazil                   01/01/2020    1      1  2020      0       0    BR   \n\n                        countryterritoryCode  popData2019 continentExp  \ncountriesAndTerritories                                                 \nBrazil                                   BRA  211049519.0      America  \nBrazil                                   BRA  211049519.0      America  \nBrazil                                   BRA  211049519.0      America  \nBrazil                                   BRA  211049519.0      America  \nBrazil                                   BRA  211049519.0      America  \n...                                      ...          ...          ...  \nBrazil                                   BRA  211049519.0      America  \nBrazil                                   BRA  211049519.0      America  \nBrazil                                   BRA  211049519.0      America  \nBrazil                                   BRA  211049519.0      America  \nBrazil                                   BRA  211049519.0      America  \n\n[187 rows x 10 columns]",
      "text/html": "<div>\n<style scoped>\n    .dataframe tbody tr th:only-of-type {\n        vertical-align: middle;\n    }\n\n    .dataframe tbody tr th {\n        vertical-align: top;\n    }\n\n    .dataframe thead th {\n        text-align: right;\n    }\n</style>\n<table border=\"1\" class=\"dataframe\">\n  <thead>\n    <tr style=\"text-align: right;\">\n      <th></th>\n      <th>dateRep</th>\n      <th>day</th>\n      <th>month</th>\n      <th>year</th>\n      <th>cases</th>\n      <th>deaths</th>\n      <th>geoId</th>\n      <th>countryterritoryCode</th>\n      <th>popData2019</th>\n      <th>continentExp</th>\n    </tr>\n    <tr>\n      <th>countriesAndTerritories</th>\n      <th></th>\n      <th></th>\n      <th></th>\n      <th></th>\n      <th></th>\n      <th></th>\n      <th></th>\n      <th></th>\n      <th></th>\n      <th></th>\n    </tr>\n  </thead>\n  <tbody>\n    <tr>\n      <th>Brazil</th>\n      <td>05/07/2020</td>\n      <td>5</td>\n      <td>7</td>\n      <td>2020</td>\n      <td>37923</td>\n      <td>1091</td>\n      <td>BR</td>\n      <td>BRA</td>\n      <td>211049519.0</td>\n      <td>America</td>\n    </tr>\n    <tr>\n      <th>Brazil</th>\n      <td>04/07/2020</td>\n      <td>4</td>\n      <td>7</td>\n      <td>2020</td>\n      <td>42223</td>\n      <td>1290</td>\n      <td>BR</td>\n      <td>BRA</td>\n      <td>211049519.0</td>\n      <td>America</td>\n    </tr>\n    <tr>\n      <th>Brazil</th>\n      <td>03/07/2020</td>\n      <td>3</td>\n      <td>7</td>\n      <td>2020</td>\n      <td>48105</td>\n      <td>1252</td>\n      <td>BR</td>\n      <td>BRA</td>\n      <td>211049519.0</td>\n      <td>America</td>\n    </tr>\n    <tr>\n      <th>Brazil</th>\n      <td>02/07/2020</td>\n      <td>2</td>\n      <td>7</td>\n      <td>2020</td>\n      <td>46712</td>\n      <td>1038</td>\n      <td>BR</td>\n      <td>BRA</td>\n      <td>211049519.0</td>\n      <td>America</td>\n    </tr>\n    <tr>\n      <th>Brazil</th>\n      <td>01/07/2020</td>\n      <td>1</td>\n      <td>7</td>\n      <td>2020</td>\n      <td>33846</td>\n      <td>1280</td>\n      <td>BR</td>\n      <td>BRA</td>\n      <td>211049519.0</td>\n      <td>America</td>\n    </tr>\n    <tr>\n      <th>...</th>\n      <td>...</td>\n      <td>...</td>\n      <td>...</td>\n      <td>...</td>\n      <td>...</td>\n      <td>...</td>\n      <td>...</td>\n      <td>...</td>\n      <td>...</td>\n      <td>...</td>\n    </tr>\n    <tr>\n      <th>Brazil</th>\n      <td>05/01/2020</td>\n      <td>5</td>\n      <td>1</td>\n      <td>2020</td>\n      <td>0</td>\n      <td>0</td>\n      <td>BR</td>\n      <td>BRA</td>\n      <td>211049519.0</td>\n      <td>America</td>\n    </tr>\n    <tr>\n      <th>Brazil</th>\n      <td>04/01/2020</td>\n      <td>4</td>\n      <td>1</td>\n      <td>2020</td>\n      <td>0</td>\n      <td>0</td>\n      <td>BR</td>\n      <td>BRA</td>\n      <td>211049519.0</td>\n      <td>America</td>\n    </tr>\n    <tr>\n      <th>Brazil</th>\n      <td>03/01/2020</td>\n      <td>3</td>\n      <td>1</td>\n      <td>2020</td>\n      <td>0</td>\n      <td>0</td>\n      <td>BR</td>\n      <td>BRA</td>\n      <td>211049519.0</td>\n      <td>America</td>\n    </tr>\n    <tr>\n      <th>Brazil</th>\n      <td>02/01/2020</td>\n      <td>2</td>\n      <td>1</td>\n      <td>2020</td>\n      <td>0</td>\n      <td>0</td>\n      <td>BR</td>\n      <td>BRA</td>\n      <td>211049519.0</td>\n      <td>America</td>\n    </tr>\n    <tr>\n      <th>Brazil</th>\n      <td>01/01/2020</td>\n      <td>1</td>\n      <td>1</td>\n      <td>2020</td>\n      <td>0</td>\n      <td>0</td>\n      <td>BR</td>\n      <td>BRA</td>\n      <td>211049519.0</td>\n      <td>America</td>\n    </tr>\n  </tbody>\n</table>\n<p>187 rows × 10 columns</p>\n</div>"
     },
     "execution_count": 5,
     "metadata": {},
     "output_type": "execute_result"
    }
   ],
   "source": [
    "brazil = america_2020.loc['Brazil']\n",
    "brazil[brazil['month'] == 7]['cases'].sum() # get cases in brazil in july\n",
    "\n",
    "brazil"
   ],
   "metadata": {
    "collapsed": false,
    "ExecuteTime": {
     "end_time": "2023-07-13T21:51:48.694537Z",
     "start_time": "2023-07-13T21:51:48.686427Z"
    }
   }
  },
  {
   "cell_type": "code",
   "execution_count": null,
   "outputs": [],
   "source": [],
   "metadata": {
    "collapsed": false
   }
  }
 ],
 "metadata": {
  "kernelspec": {
   "display_name": "Python 3",
   "language": "python",
   "name": "python3"
  },
  "language_info": {
   "codemirror_mode": {
    "name": "ipython",
    "version": 2
   },
   "file_extension": ".py",
   "mimetype": "text/x-python",
   "name": "python",
   "nbconvert_exporter": "python",
   "pygments_lexer": "ipython2",
   "version": "2.7.6"
  }
 },
 "nbformat": 4,
 "nbformat_minor": 0
}
