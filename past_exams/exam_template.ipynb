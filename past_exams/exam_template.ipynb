{
 "cells": [
  {
   "cell_type": "markdown",
   "source": [
    "# Data Visualization Lab - Sebastiano Cassol - id: 229318\n",
    "> ?? - ?? - 2023"
   ],
   "metadata": {
    "collapsed": false
   },
   "id": "d8641cdad271b072"
  },
  {
   "cell_type": "markdown",
   "source": [
    "## Exercise 1\n",
    "(...)"
   ],
   "metadata": {
    "collapsed": false
   },
   "id": "36b49fe671e2fc7a"
  },
  {
   "cell_type": "markdown",
   "source": [
    "## Exercise 2\n",
    "(...)"
   ],
   "metadata": {
    "collapsed": false
   },
   "id": "661e471089aa3f67"
  },
  {
   "cell_type": "markdown",
   "source": [
    "## Exercise 3\n",
    "(...)"
   ],
   "metadata": {
    "collapsed": false
   },
   "id": "d549fef7cb92b147"
  },
  {
   "cell_type": "markdown",
   "source": [
    "## Exercise 4\n",
    "(...)"
   ],
   "metadata": {
    "collapsed": false
   },
   "id": "b0ccf02d65e89f99"
  },
  {
   "cell_type": "markdown",
   "source": [
    "## Exercise 5\n",
    "(...)"
   ],
   "metadata": {
    "collapsed": false
   },
   "id": "1374a6c1c1385f7d"
  },
  {
   "cell_type": "markdown",
   "source": [
    "## Exercise 6\n",
    "(...)"
   ],
   "metadata": {
    "collapsed": false
   },
   "id": "4c1fe966ca838a2a"
  }
 ],
 "metadata": {
  "kernelspec": {
   "display_name": "Python 3",
   "language": "python",
   "name": "python3"
  },
  "language_info": {
   "codemirror_mode": {
    "name": "ipython",
    "version": 2
   },
   "file_extension": ".py",
   "mimetype": "text/x-python",
   "name": "python",
   "nbconvert_exporter": "python",
   "pygments_lexer": "ipython2",
   "version": "2.7.6"
  }
 },
 "nbformat": 4,
 "nbformat_minor": 5
}
