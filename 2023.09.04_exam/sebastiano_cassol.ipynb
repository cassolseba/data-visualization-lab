{
 "cells": [
  {
   "cell_type": "markdown",
   "id": "d8641cdad271b072",
   "metadata": {
    "collapsed": false
   },
   "source": [
    "# Data Visualization Lab - Sebastiano Cassol - id: 229318\n",
    "> 04 - 09 - 2023"
   ]
  },
  {
   "cell_type": "markdown",
   "id": "36b49fe671e2fc7a",
   "metadata": {
    "collapsed": false
   },
   "source": [
    "## Exercise 1\n",
    "(...)"
   ]
  },
  {
   "cell_type": "markdown",
   "id": "661e471089aa3f67",
   "metadata": {
    "collapsed": false
   },
   "source": [
    "## Exercise 2\n",
    "(...)"
   ]
  },
  {
   "cell_type": "markdown",
   "id": "d549fef7cb92b147",
   "metadata": {
    "collapsed": false
   },
   "source": [
    "## Exercise 3\n",
    "(...)"
   ]
  },
  {
   "cell_type": "markdown",
   "id": "b0ccf02d65e89f99",
   "metadata": {
    "collapsed": false
   },
   "source": [
    "## Exercise 4\n",
    "(...)"
   ]
  },
  {
   "cell_type": "markdown",
   "id": "1374a6c1c1385f7d",
   "metadata": {
    "collapsed": false
   },
   "source": [
    "## Exercise 5\n",
    "(...)"
   ]
  },
  {
   "cell_type": "markdown",
   "id": "4c1fe966ca838a2a",
   "metadata": {
    "collapsed": false
   },
   "source": [
    "## Exercise 6\n",
    "(...)"
   ]
  }
 ],
 "metadata": {
  "kernelspec": {
   "display_name": "Python 3",
   "language": "python",
   "name": "python3"
  },
  "language_info": {
   "codemirror_mode": {
    "name": "ipython",
    "version": 2
   },
   "file_extension": ".py",
   "mimetype": "text/x-python",
   "name": "python",
   "nbconvert_exporter": "python",
   "pygments_lexer": "ipython2",
   "version": "2.7.6"
  }
 },
 "nbformat": 4,
 "nbformat_minor": 5
}
