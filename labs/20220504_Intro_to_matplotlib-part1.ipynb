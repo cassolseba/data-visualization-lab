{
 "cells": [
  {
   "cell_type": "markdown",
   "metadata": {},
   "source": [
    "# matplotlib: quick (and partial) summary\n",
    "Marco Chierici & Giuseppe Jurman\n",
    "\n",
    "May 4, 2022\n",
    "\n",
    "(partially abridged from [Machine Learning Plus](https://www.machinelearningplus.com/plots/matplotlib-tutorial-complete-guide-python-plot-examples/) & [matplotlib.org](https://matplotlib.org/tutorials/introductory/usage.html#sphx-glr-tutorials-introductory-usage-py)\n"
   ]
  },
  {
   "cell_type": "markdown",
   "metadata": {},
   "source": [
    "## Kick off\n",
    "\n",
    "We'll work in a **Jupyter Notebook**, which is a web application for creating and sharing computational documents, mixing Markdown-formatted text and code.\n",
    "\n",
    "First, you'll need to start the Jupyter server. \n",
    "\n",
    "* The easiest way to do this is to open Anaconda Navigator and then launch Jupyter Notebook from there.\n",
    "\n",
    "![](https://docs.anaconda.com/_images/nav-defaults1.png)\n",
    "\n",
    "* Alternatively, open up a terminal window and execute the command `jupyter notebook`.\n",
    "\n",
    "In any case, you should end up with a new tab in your default web browser, with the URL `http://localhost:8888/tree`."
   ]
  },
  {
   "cell_type": "markdown",
   "metadata": {},
   "source": [
    "## Intro\n",
    "\n",
    "Everything in *matplotlib* is hierarchally organized. At the top of the hierarchy is the matplotlib \"state-machine environment\" which is provided by the `matplotlib.pyplot` module. At this level, simple functions are used to add plot elements (lines, images, text, etc.) to the current axes in the current figure.\n",
    "\n",
    "The next level down in the hierarchy is the first level of the object-oriented interface, in which pyplot is used only for a few functions such as figure creation, and the user explicitly creates and keeps track of the figure and axes objects. At this level, the user creates figures with `pyplot`, and through those figures, one or more axes objects can be created. These axes objects are then used for most plotting actions.\n",
    "\n",
    "For even more control -- which is essential for things like embedding matplotlib plots in GUI applications -- the pyplot level may be dropped completely, leaving a purely object-oriented approach."
   ]
  },
  {
   "cell_type": "markdown",
   "metadata": {},
   "source": [
    "### Parts of a figure\n",
    "![](https://matplotlib.org/stable/_images/anatomy.png)"
   ]
  },
  {
   "cell_type": "markdown",
   "metadata": {},
   "source": [
    "### Figure\n",
    "\n",
    "This is the entire figure. \n",
    "\n",
    "The figure keeps track of all the child Axes, a group of special \"Artists\" (titles, figure legends, etc), nested subfigures, and the canvas. \n",
    "\n",
    "(Don't worry too much about the canvas, it is crucial as it is the object that actually does the drawing to get you your plot, but it is more-or-less invisible to you as the user).\n",
    "\n",
    "A figure can have any number of Axes, but to be useful it should have at least one.\n",
    "\n",
    "The easiest way to create a new figure is with pyplot:"
   ]
  },
  {
   "cell_type": "code",
   "execution_count": 1,
   "metadata": {
    "ExecuteTime": {
     "end_time": "2023-06-16T12:19:48.139679Z",
     "start_time": "2023-06-16T12:19:48.132096Z"
    }
   },
   "outputs": [],
   "source": [
    "# import required modules\n",
    "import matplotlib.pyplot as plt\n",
    "import numpy as np\n",
    "# the following is a Jupyter notebook \"magic\" - it lets you see the plots within the notebook\n",
    "%matplotlib inline"
   ]
  },
  {
   "cell_type": "code",
   "execution_count": 5,
   "metadata": {
    "ExecuteTime": {
     "end_time": "2023-06-16T12:20:46.577641Z",
     "start_time": "2023-06-16T12:20:46.572257Z"
    }
   },
   "outputs": [
    {
     "data": {
      "text/plain": "Text(0.5, 0.98, 'No axes on this figure')"
     },
     "execution_count": 5,
     "metadata": {},
     "output_type": "execute_result"
    },
    {
     "data": {
      "text/plain": "<Figure size 640x480 with 0 Axes>"
     },
     "metadata": {},
     "output_type": "display_data"
    }
   ],
   "source": [
    "fig = plt.figure()  # an empty figure with no axes\n",
    "fig.suptitle('No axes on this figure')  # Add a title so we know which it is"
   ]
  },
  {
   "cell_type": "code",
   "execution_count": 3,
   "metadata": {
    "ExecuteTime": {
     "end_time": "2023-06-16T12:20:38.153475Z",
     "start_time": "2023-06-16T12:20:37.883495Z"
    }
   },
   "outputs": [
    {
     "data": {
      "text/plain": "<Figure size 640x480 with 4 Axes>",
      "image/png": "[encoded data removed]"
     },
     "metadata": {},
     "output_type": "display_data"
    }
   ],
   "source": [
    "fig, ax_lst = plt.subplots(2, 2)  # a figure with a 2x2 grid of Axes"
   ]
  },
  {
   "cell_type": "code",
   "execution_count": 6,
   "metadata": {
    "ExecuteTime": {
     "end_time": "2023-06-16T12:21:00.235881Z",
     "start_time": "2023-06-16T12:21:00.227259Z"
    }
   },
   "outputs": [
    {
     "data": {
      "text/plain": "(2, 2)"
     },
     "execution_count": 6,
     "metadata": {},
     "output_type": "execute_result"
    }
   ],
   "source": [
    "ax_lst.shape"
   ]
  },
  {
   "cell_type": "markdown",
   "metadata": {},
   "source": [
    "###  Axes\n",
    "\n",
    "This is what you think of as 'a plot'. It is the region of the image with the data space. A given figure can contain many Axes, but a given Axes object can only be in one Figure. The **Axes** contains two (or three in the case of 3D) **Axis** objects (be aware of the difference between Axes and Axis) which take care of the data limits (the data limits can also be controlled via `set_xlim()` and `set_ylim()` Axes methods). \n",
    "\n",
    "Each Axes has:\n",
    "\n",
    "1. a title (set via `set_title()`);\n",
    "1. a x-label (set via `set_xlabel()`);\n",
    "1. a y-label (set via `set_ylabel()`).\n",
    "\n",
    "The Axes class and its member functions are the primary entry point to working with the object-oriented programming (OOP) interface.\n",
    "\n",
    "### Axis\n",
    "\n",
    "These are the number-line-like objects. They take care of setting the graph limits and generating the ticks (the marks on the axis) and ticklabels (strings labeling the ticks). The location of the ticks is determined by a Locator object and the ticklabel strings are formatted by a Formatter. The combination of the correct Locator and Formatter gives very fine control over the tick locations and labels.\n",
    "\n",
    "### Artist\n",
    "\n",
    "Basically everything you can see on the figure is an artist (even the Figure, Axes, and Axis objects). This includes Text objects, Line2D objects, collection objects, Patch objects ... (you get the idea). When the figure is rendered, all of the artists are drawn to the canvas. Most Artists are tied to an Axes; such an Artist cannot be shared by multiple Axes, or moved from one to another."
   ]
  },
  {
   "cell_type": "markdown",
   "metadata": {},
   "source": [
    "---\n",
    "Let's start now with some basic examples: first, let’s see what `plt.plot()` creates if you call it on an arbitrary sequence of numbers."
   ]
  },
  {
   "cell_type": "code",
   "execution_count": null,
   "metadata": {},
   "outputs": [],
   "source": [
    "plt.plot([1, 2, 3, 4, 10])"
   ]
  },
  {
   "cell_type": "markdown",
   "metadata": {},
   "source": [
    "I just gave a list of numbers to plt.plot() and it drew a **line chart** automatically. It assumed the values of the X-axis to start from zero going up to as many items in the data.\n",
    "\n",
    "Notice the line `matplotlib.lines.Line2D` in code output?\n",
    "\n",
    "That’s because Matplotlib returns the plot object itself besides drawing the plot.\n",
    "\n",
    "If you only want to see the plot (e.g. in a non-interactive script), add `plt.show()` at the end and execute all the lines in one shot."
   ]
  },
  {
   "cell_type": "code",
   "execution_count": 7,
   "metadata": {
    "ExecuteTime": {
     "end_time": "2023-06-16T12:21:13.129487Z",
     "start_time": "2023-06-16T12:21:13.072837Z"
    }
   },
   "outputs": [
    {
     "data": {
      "text/plain": "<Figure size 640x480 with 1 Axes>",
      "image/png": "[encoded data removed]"
     },
     "metadata": {},
     "output_type": "display_data"
    }
   ],
   "source": [
    "plt.plot([1, 2, 3, 4, 10])\n",
    "plt.show()"
   ]
  },
  {
   "cell_type": "markdown",
   "metadata": {},
   "source": [
    "So, this is not a scatterplot yet, but a line chart.\n",
    "\n",
    "How to draw a real scatterplot instead?\n",
    "\n",
    "To do that, let’s understand a bit more about what arguments `plt.plot()` expects. The three basic arguments are: `plt.plot(x, y, format)` (in this specific order!)\n",
    "\n",
    "The `format` is a string representing a shorthand combination of *{color}{marker}{line}*.\n",
    "\n",
    "For example, the format `'go-'` has 3 characters standing for: *‘green colored dots with solid line’*.\n",
    "\n",
    "By omitting the line part (`‘-‘`) in the end, you will be left with only green dots (`‘go’`), which makes it draw a scatterplot."
   ]
  },
  {
   "cell_type": "markdown",
   "metadata": {},
   "source": [
    "Few commonly used short hand format examples are:\n",
    "* `'r*--'` : ‘red stars with dashed lines’\n",
    "* `'ks:'` : ‘black squares with dotted line’ (‘k’ stands for black)\n",
    "* `'bD-.'` : ‘blue diamonds with dash-dot line’.\n",
    "\n",
    "For a complete list of colors, markers and linestyles, check out the `help(plt.plot)` command.\n",
    "\n",
    "Let's draw a scatterplot with green dots:"
   ]
  },
  {
   "cell_type": "code",
   "execution_count": null,
   "metadata": {},
   "outputs": [],
   "source": [
    "# 'go' stands for green dots\n",
    "plt.plot([1, 2, 3, 4, 5], [1, 2, 3, 4, 10], 'go')\n",
    "plt.show()"
   ]
  },
  {
   "cell_type": "markdown",
   "metadata": {},
   "source": [
    "Now how to plot another set of 5 points of different color in the same figure?\n",
    "\n",
    "Simply call `plt.plot()` again, it will add those point to the same picture.\n",
    "\n",
    "You might wonder, why it does not draw these points in a new panel altogether? I will come to that in the next section."
   ]
  },
  {
   "cell_type": "code",
   "execution_count": null,
   "metadata": {},
   "outputs": [],
   "source": [
    "# Draw two sets of points\n",
    "plt.plot([1, 2, 3, 4, 5], [1, 2, 3, 4, 10], \"go\")  # green dots\n",
    "plt.plot([1, 2, 3, 4, 5], [2, 3, 4, 5, 11], \"b*\")  # blue stars\n",
    "plt.show()"
   ]
  },
  {
   "cell_type": "markdown",
   "metadata": {},
   "source": [
    "Looks good. Now let’s add the basic plot features: Title, Legend, X and Y axis labels. How to do that?\n",
    "\n",
    "The `plt` object has corresponding methods to add each of this."
   ]
  },
  {
   "cell_type": "code",
   "execution_count": null,
   "metadata": {},
   "outputs": [],
   "source": [
    "plt.plot([1, 2, 3, 4, 5], [1, 2, 3, 4, 10], \"go\", label=\"GreenDots\")  # we attach a label to be used by the legend\n",
    "plt.plot([1, 2, 3, 4, 5], [2, 3, 4, 5, 11], \"b*\", label=\"Bluestars\")\n",
    "plt.title(\"A Simple Scatterplot\")\n",
    "plt.xlabel(\"X\")\n",
    "plt.ylabel(\"Y\")\n",
    "plt.legend(loc=\"best\")  # legend text comes from the plot's label parameter\n",
    "plt.show()\n",
    "\n",
    "# other choices for loc are: 'upper right', 'lower right', 'center', 'right', 'center right' (similarly for left)"
   ]
  },
  {
   "cell_type": "markdown",
   "metadata": {},
   "source": [
    "Now, how to increase the size of the plot?\n",
    "\n",
    "The easy way to do it is by setting the `figsize` inside `plt.figure()` method. We also set the xy axis limits."
   ]
  },
  {
   "cell_type": "code",
   "execution_count": null,
   "metadata": {},
   "outputs": [],
   "source": [
    "plt.figure(figsize=(10, 7))  # (width, height)\n",
    "plt.plot([1, 2, 3, 4, 5], [1, 2, 3, 4, 10], \"go\", label=\"GreenDots\")  # green dots\n",
    "plt.plot([1, 2, 3, 4, 5], [2, 3, 4, 5, 11], \"b*\", label=\"Bluestars\")  # blue stars\n",
    "plt.title(\"A Simple Scatterplot\")\n",
    "plt.xlabel(\"X\")\n",
    "plt.ylabel(\"Y\")\n",
    "plt.xlim(0, 6) # x axis limits\n",
    "plt.ylim(0, 12) # y axis limits\n",
    "plt.legend(loc=\"best\")\n",
    "plt.show()"
   ]
  },
  {
   "cell_type": "markdown",
   "metadata": {},
   "source": [
    "Ok, we have some new lines of code there. What does `plt.figure` do?\n",
    "\n",
    "Every plot that matplotlib makes is drawn on something called 'figure'. You can think of the figure object as a canvas that holds all the subplots and other plot elements inside it.\n",
    "\n",
    "A figure can have one or more subplots inside it called Axes, arranged in rows and columns. Every figure has at least one Axes. (Again, don't confuse Axes with X and Y axis, they are different!)"
   ]
  },
  {
   "cell_type": "markdown",
   "metadata": {},
   "source": [
    "## How to draw 2 scatterplots in different panels\n",
    "\n",
    "Let’s understand figure and axes in little more detail.\n",
    "\n",
    "Suppose I want to draw our two sets of points (green rounds and blue stars) in two separate plots side-by-side instead of the same plot. \n",
    "\n",
    "You can do that by creating two separate subplots, or Axes, using `plt.subplots(1, 2)`: this means to creates 1 row with 2 subplots. The command returns two objects:\n",
    "\n",
    "1. the figure\n",
    "1. the axes (subplots) inside the figure\n",
    "\n",
    "![](https://www.machinelearningplus.com/wp-content/uploads/2019/01/99_matplotlib_structure-1.png)\n",
    "\n",
    "Previously, I called `plt.plot()` to draw the points. Since there was only one axes by default, it drew the points on that axes itself.\n",
    "\n",
    "But now, since you want the points drawn on different subplots (axes), you have to call the plot function in the respective axes (`ax1` and `ax2` in below code) instead of `plt`.\n",
    "\n",
    "Notice in below code, I call `ax1.plot()` and `ax2.plot()` instead of calling `plt.plot()` twice."
   ]
  },
  {
   "cell_type": "code",
   "execution_count": null,
   "metadata": {},
   "outputs": [],
   "source": [
    "# Create Figure and Subplots, capturing them in separate variables\n",
    "fig, (ax1, ax2) = plt.subplots(1, 2, figsize=(10, 4), sharey=True, dpi=100)\n",
    "\n",
    "# Plot\n",
    "ax1.plot([1, 2, 3, 4, 5], [1, 2, 3, 4, 10], \"go\")  # greendots\n",
    "ax2.plot([1, 2, 3, 4, 5], [2, 3, 4, 5, 11], \"b*\")  # bluestart\n",
    "\n",
    "# Title, X and Y labels, X and Y Lim\n",
    "ax1.set_title(\"Scatterplot Greendots\")\n",
    "ax2.set_title(\"Scatterplot Bluestars\")\n",
    "ax1.set_xlabel(\"X\")\n",
    "ax2.set_xlabel(\"X\")  # x label\n",
    "ax1.set_ylabel(\"Y\")\n",
    "ax2.set_ylabel(\"Y\")  # y label\n",
    "ax1.set_xlim(0, 6)\n",
    "ax2.set_xlim(0, 6)  # x axis limits\n",
    "ax1.set_ylim(0, 12)\n",
    "ax2.set_ylim(0, 12)  # y axis limits\n",
    "\n",
    "# ax2.yaxis.set_ticks_position('none')\n",
    "plt.tight_layout()\n",
    "plt.show()"
   ]
  },
  {
   "cell_type": "markdown",
   "metadata": {},
   "source": [
    "Setting `sharey=True` in `plt.subplots()` shares the Y axis between the two subplots.\n",
    "\n",
    "`dpi=100` increased the number of dots per inch of the plot to make it look more sharp and clear. You will notice a distinct improvement in clarity on increasing the dpi, especially in Jupyter notebooks.\n",
    "\n",
    "Thats sounds like a lot of functions to learn. It's actually quite easy to remember them.\n",
    "\n",
    "The `ax1` and `ax2` objects, like `plt`, have equivalent `set_title`, `set_xlabel` and `set_ylabel` functions. In fact, `plt.title()` actually calls the current axes `set_title()` to do the job.\n",
    "\n",
    "* `plt.xlabel()` → `ax.set_xlabel()`\n",
    "* `plt.ylabel()` → `ax.set_ylabel()`\n",
    "* `plt.xlim()` → `ax.set_xlim()`\n",
    "* `plt.ylim()` → `ax.set_ylim()`\n",
    "* `plt.title()` → `ax.set_title()`\n",
    "\n",
    "Alternately, to save keystrokes, you can set multiple things in one go using the `ax.set()`:"
   ]
  },
  {
   "cell_type": "code",
   "execution_count": null,
   "metadata": {},
   "outputs": [],
   "source": [
    "ax1.set(\n",
    "    title=\"Scatterplot Greendots\", xlabel=\"X\", ylabel=\"Y\", xlim=(0, 6), ylim=(0, 12)\n",
    ")\n",
    "ax2.set(\n",
    "    title=\"Scatterplot Bluestars\", xlabel=\"X\", ylabel=\"Y\", xlim=(0, 6), ylim=(0, 12)\n",
    ")\n"
   ]
  },
  {
   "cell_type": "markdown",
   "metadata": {},
   "source": [
    "> Why does the above code is formatted in that seemingly weird way?\n",
    ">\n",
    "> It uses [\"Black formatting\"](https://black.readthedocs.io/en/stable/the_black_code_style/current_style.html), a PEP 8 compliant formatter for Python code.\n",
    ">\n",
    "> For example, the Black formatter puts one full expression or single statement per line: if this does not fit the allotted line length, then Black will look at the contents of the first outer matching brackets and put that in a separate indented line. If this line does not fit the line length, the process is repeated.\n",
    ">\n",
    "> You'll see more examples of Black formatting in this notebook."
   ]
  },
  {
   "cell_type": "markdown",
   "metadata": {},
   "source": [
    "## Object-Oriented Syntax vs Matlab-like Syntax\n",
    "\n",
    "A common problem while learning matplotlib is that it has two coding interfaces:\n",
    "\n",
    "* Matlab-like syntax\n",
    "* Object-oriented (OO) syntax.\n",
    "\n",
    "This is partly the reason why matplotlib doesn't have one consistent way of achieving the same given output, making it a bit difficult to understand for newcomers.\n",
    "\n",
    "The syntax you have seen so far is the OO syntax, which is more intuitive and pythonic to work with.\n",
    "\n",
    "However, since the original purpose of matplotlib was to recreate the plotting facilities of Matlab in Python, the Matlab-like syntax is retained and still works.\n",
    "\n",
    "The Matlab syntax is ‘stateful’.\n",
    "\n",
    "That means that `plt` keeps track of what the current axes is. So whatever you draw with `plt.{anything}` will be reflected only on the **current** subplot.\n",
    "\n",
    "In practice, the main difference between the two syntaxes is\n",
    "\n",
    "* matlab syntax: all plotting is done using plt methods\n",
    "* OO syntax: all plotting is done using the respective axes' methods\n",
    "\n",
    "So, how to recreate the above multi-subplots figure (or any other figure for that matter) using Matlab syntax?\n",
    "\n",
    "The general procedure is:\n",
    "\n",
    "* You manually create one subplot at a time (using `plt.subplot()` or `plt.add_subplot()`) and \n",
    "* immediately call `plt.plot()` or `plt.{anything}` to modify that specific subplot (axes). \n",
    "\n",
    "Whatever method you call using `plt` will be drawn in the current axes.\n",
    "\n",
    "The code below shows this in practice."
   ]
  },
  {
   "cell_type": "code",
   "execution_count": null,
   "metadata": {},
   "outputs": [],
   "source": [
    "# Matlab-like syntax\n",
    "plt.figure(figsize=(10, 4), dpi=100)  # figsize=(width, height)\n",
    "\n",
    "# Left hand side plot\n",
    "plt.subplot(1, 2, 1)  # (nRows, nColumns, axes number to plot)\n",
    "plt.plot([1, 2, 3, 4, 5], [1, 2, 3, 4, 10], \"go\")  # green dots\n",
    "plt.title(\"Scatterplot Greendots\")\n",
    "plt.xlabel(\"X\")\n",
    "plt.ylabel(\"Y\")\n",
    "plt.xlim(0, 6)\n",
    "plt.ylim(0, 12)\n",
    "\n",
    "# Right hand side plot\n",
    "plt.subplot(1, 2, 2)\n",
    "plt.plot([1, 2, 3, 4, 5], [2, 3, 4, 5, 11], \"b*\")  # blue stars\n",
    "plt.title(\"Scatterplot Bluestars\")\n",
    "plt.xlabel(\"X\")\n",
    "plt.ylabel(\"Y\")\n",
    "plt.xlim(0, 6)\n",
    "plt.ylim(0, 12)\n",
    "plt.show()"
   ]
  },
  {
   "cell_type": "markdown",
   "metadata": {},
   "source": [
    "Let’s breakdown the above piece of code.\n",
    "\n",
    "In `plt.subplot(1,2,1)`, the first two values (1,2) specify the number of rows (1) and columns (2), and the third value (1) specifies the position of the current subplot. The subsequent `plt` functions will always draw on this current subplot.\n",
    "\n",
    "You can get a reference to the current (subplot) axes with `plt.gca()` (\"get current axis\") and the current figure with `plt.gcf()` (\"get current figure\"). Likewise, `plt.cla()` and `plt.clf()` will clear the current axes and figure respectively.\n",
    "\n",
    "Now, compare the above code with the object oriented (OO) version. The OO version might look a but confusing because it has a mix of both `ax1` and `plt` commands.\n",
    "\n",
    "However, there is a significant advantage with the OO approach.\n",
    "\n",
    "Since `plt.subplots` returns all the axes as separate objects, you can avoid writing repetitive code by looping through the axes.\n",
    "\n",
    "Always remember: `plt.plot()` or `plt.{anything}` will always act on the plot in the *current* axes, whereas `ax.{anything}` will modify the plot inside that specific `ax`."
   ]
  },
  {
   "cell_type": "code",
   "execution_count": null,
   "metadata": {},
   "outputs": [],
   "source": [
    "# We'll draw multiple plots using for-loops with object-oriented syntax\n",
    "# The target is to have a figure with 4 panels arranged in a 2x2 matrix\n",
    "import numpy as np\n",
    "from numpy.random import seed, randint\n",
    "seed(100)\n",
    "\n",
    "# Create Figure and Subplots\n",
    "fig, axes = plt.subplots(2, 2, figsize=(10, 8), \n",
    "                         sharex=True, sharey=True, dpi=80)\n",
    "\n",
    "# Define the colors and markers to use\n",
    "colors = {0:'g', 1:'b', 2:'r', 3:'y'}\n",
    "markers = {0:'o', 1:'x', 2:'*', 3:'p'}\n",
    "\n",
    "# Plot each axes\n",
    "for i, ax in enumerate(axes.ravel()): # I use ravel() to obtain a 1D array from a 2x2 matrix\n",
    "    ax.plot(sorted(randint(0, 10, 10)), \n",
    "            sorted(randint(0, 10, 10)), \n",
    "            marker=markers[i], \n",
    "            color=colors[i])  \n",
    "    ax.set_title('Ax: ' + str(i))\n",
    "    ax.yaxis.set_ticks_position('none')\n",
    "\n",
    "\n",
    "plt.suptitle('Four Subplots in One Figure', \n",
    "             verticalalignment='bottom', fontsize=16)    \n",
    "plt.tight_layout()\n",
    "plt.show()"
   ]
  },
  {
   "cell_type": "markdown",
   "metadata": {},
   "source": [
    "Did you notice in above plot that the Y-axis do not have ticks?\n",
    "\n",
    "That is because I used `ax.yaxis.set_ticks_position('none')` to turn them off. \n",
    "This is another advantage of the object-oriented interface.\n",
    "Another advantage is the possibility to set a dynamic title for each subplot.\n",
    "\n",
    "You can actually get a reference to any specific element of the plot and use its methods to manipulate it.\n",
    "\n",
    "The `plt.suptitle()` added a main title at figure level.\n",
    "`plt.title()` would have done the same for the current subplot (axes).\n",
    "\n",
    "The `verticalalignment='bottom'` parameter denotes that the hinge point should be at the bottom of the title text, so that the main title is pushed slightly upwards.\n",
    "\n",
    "So far you have learned the core essence creating and manipulating a plot using `matplotlib`.\n",
    "Next, let’s see how to get the reference to and modify the other components of the plot."
   ]
  },
  {
   "cell_type": "markdown",
   "metadata": {},
   "source": [
    "## How to Modify the Axis Ticks Positions and Labels\n",
    "\n",
    "There are 3 basic things you will probably ever need in matplotlib when it comes to manipulating axis ticks:\n",
    "\n",
    "* How to control the position and tick labels (using `plt.xticks()` or `ax.setxticks()` and `ax.setxticklabels()` - similarly for the y axis)\n",
    "* How to control which axis' ticks (top/bottom/left/right) should be displayed (using `plt.tick_params()`)\n",
    "* Functional formatting of tick labels.\n",
    "\n",
    "If you are using ax syntax, you can use `ax.set_xticks()` and `ax.set_xticklabels()` to set the positions and label texts respectively. If you are using the `plt` syntax, you can set both the positions as well as the label text in one call using the `plt.xticks()`.\n",
    "\n",
    "Actually, if you look at the code of `plt.xticks()` method (type `??plt.xticks` within a Jupyter notebook), it calls `ax.set_xticks()` and `ax.set_xticklabels()` to do the job. \n",
    "\n",
    "`plt.xticks` takes the ticks and labels as required parameters but you can also adjust the label fontsize, rotation, `horizontalalignment` and `verticalalignment` of the hinge points on the labels, like I've done in the following example dealing with a plot of sine and cosine functions."
   ]
  },
  {
   "cell_type": "code",
   "execution_count": null,
   "metadata": {},
   "outputs": [],
   "source": [
    "from matplotlib.ticker import FuncFormatter\n",
    "\n",
    "# custom function to be used as tick labels formatter (see below)\n",
    "def rad_to_degrees(x, pos):\n",
    "    \"converts radians to degrees\"\n",
    "    return round(x * 57.2985, 2)\n",
    "\n",
    "plt.figure(figsize=(12, 7), dpi=80)\n",
    "X = np.linspace(0, 2 * np.pi, 1000)\n",
    "plt.plot(X, np.sin(X))\n",
    "plt.plot(X, np.cos(X))\n",
    "\n",
    "# 1. Adjust x axis Ticks\n",
    "plt.xticks(\n",
    "    ticks=np.arange(0, 370 / 57.2985, 90 / 57.2985),\n",
    "    fontsize=12,\n",
    "    rotation=30,\n",
    "    ha=\"center\",\n",
    "    va=\"top\",\n",
    ")  # 1 radian = 57.2985 degrees\n",
    "\n",
    "# 2. Tick Parameters\n",
    "plt.tick_params(\n",
    "    axis=\"both\",\n",
    "    bottom=True,\n",
    "    top=True,\n",
    "    left=True,\n",
    "    right=True,\n",
    "    direction=\"in\", # ticks pointing inwards\n",
    "    which=\"major\",\n",
    "    grid_color=\"blue\",\n",
    ")\n",
    "\n",
    "# 3. Format tick labels to convert radians to degrees\n",
    "formatter = FuncFormatter(rad_to_degrees)\n",
    "plt.gca().xaxis.set_major_formatter(formatter)\n",
    "\n",
    "plt.grid(linestyle=\"--\", linewidth=0.5, alpha=0.15)\n",
    "plt.title(\n",
    "    \"Sine and Cosine Waves\\n(Notice the ticks are on all 4 sides pointing inwards, radians converted to degrees in x axis)\",\n",
    "    fontsize=14,\n",
    ")\n",
    "plt.show()\n"
   ]
  },
  {
   "cell_type": "markdown",
   "metadata": {},
   "source": [
    "In above code, `plt.tick_params()` is used to determine which axis of the plot (‘top’ / ‘bottom’ / ‘left’ / ‘right’) you want to draw the ticks on and which direction (‘in’ / ‘out’) the tick should point to.\n",
    "\n",
    "The `matplotlib.ticker` module provides the `FuncFormatter` to determine how the final tick label should be shown."
   ]
  },
  {
   "cell_type": "markdown",
   "metadata": {},
   "source": [
    "## Understanding the rcParams, Plot Styles, and Colors\n",
    "\n",
    "The look and feel of various components of a matplotlib plot can be set globally using *rcParams*. \n",
    "\n",
    "The complete list of rcParams is very exhaustive: see the [help page](https://matplotlib.org/stable/api/matplotlib_configuration_api.html#matplotlib.rcParams) for the full list and explanation.\n",
    "You can also view it by typing:"
   ]
  },
  {
   "cell_type": "code",
   "execution_count": null,
   "metadata": {},
   "outputs": [],
   "source": [
    "import matplotlib as mpl\n",
    "mpl.rc_params()"
   ]
  },
  {
   "cell_type": "markdown",
   "metadata": {},
   "source": [
    "You can dynamically adjust the params you'd like to change by updating it at runtime. \n",
    "For example, the below snippet adjusts the font by setting it to ['stix'](https://www.stixfonts.org/), which looks great on plots by the way."
   ]
  },
  {
   "cell_type": "code",
   "execution_count": null,
   "metadata": {},
   "outputs": [],
   "source": [
    "mpl.rcParams.update({'font.size': 18, \n",
    "                     'font.family': 'STIXGeneral', \n",
    "                     'mathtext.fontset': 'stix'})"
   ]
  },
  {
   "cell_type": "markdown",
   "metadata": {},
   "source": [
    "After modifying a plot, you can rollback the rcParams to default setting using:"
   ]
  },
  {
   "cell_type": "code",
   "execution_count": null,
   "metadata": {},
   "outputs": [],
   "source": [
    "mpl.rcParams.update(mpl.rcParamsDefault)  # reset to defaults"
   ]
  },
  {
   "cell_type": "markdown",
   "metadata": {},
   "source": [
    "This looks more convenient than R's way to deal with graphical parameters (`op <- par(mfrow=(2,1); ...; par(op))`)\n",
    "\n",
    "Matplotlib comes with **pre-built styles** that you can browse by typing:"
   ]
  },
  {
   "cell_type": "code",
   "execution_count": null,
   "metadata": {},
   "outputs": [],
   "source": [
    "plt.style.available"
   ]
  },
  {
   "cell_type": "markdown",
   "metadata": {},
   "source": [
    "Notice `fivethirtyeight`, which we used in R during our previous lab lecture, and `ggplot`.\n",
    "\n",
    "`seaborn` is called after another high-level plotting library that is especially useful if your input is in a Pandas dataframe (we'll see an example at the end of today's notebook).\n",
    "\n",
    "Let's play with some of the pre-built styles by creating a function that takes a style name as input and produces a plot with sine and cosine waves, like before."
   ]
  },
  {
   "cell_type": "code",
   "execution_count": null,
   "metadata": {},
   "outputs": [],
   "source": [
    "import matplotlib as mpl\n",
    "\n",
    "# let's change some graphical parameters\n",
    "mpl.rcParams.update(\n",
    "    {\"font.size\": 18, \"font.family\": \"STIXGeneral\", \"mathtext.fontset\": \"stix\"}\n",
    ")\n",
    "\n",
    "# our custom function\n",
    "def plot_sine_cosine_wave(style=\"ggplot\"):\n",
    "    plt.style.use(style)\n",
    "    \n",
    "    plt.figure(figsize=(7, 4), dpi=80)\n",
    "    X = np.linspace(0, 2 * np.pi, 1000)\n",
    "    plt.plot(X, np.sin(X))\n",
    "    plt.plot(X, np.cos(X))\n",
    "    plt.xticks(\n",
    "        ticks=np.arange(0, 370 / 57.2985, 90 / 57.2985),  # 1 radian = 57.2985 degrees\n",
    "        labels=[\n",
    "            r\"$0$\",\n",
    "            r\"$\\frac{\\pi}{2}$\",\n",
    "            r\"$\\pi$\",\n",
    "            r\"$\\frac{3\\pi}{2}$\",\n",
    "            r\"$2\\pi$\",\n",
    "        ],  # this time we use radians to label the ticks: note the use of LaTeX code\n",
    "    )\n",
    "    plt.gca().set(ylim=(-1.25, 1.25), xlim=(-0.5, 7))\n",
    "    plt.title(style, fontsize=18)\n",
    "    plt.show()\n",
    "\n",
    "\n",
    "plot_sine_cosine_wave(\"fivethirtyeight\")\n",
    "plot_sine_cosine_wave(\"seaborn\")\n",
    "plot_sine_cosine_wave(\"ggplot\")\n"
   ]
  },
  {
   "cell_type": "markdown",
   "metadata": {},
   "source": [
    "I’ve just shown three of the pre-built styles: the rest of the list is definitely worth a look.\n",
    "\n",
    "Besides styles, Matplotlib also comes with **pre-built colors and palettes**. Type the following in your jupyter/python console to check out the available colors."
   ]
  },
  {
   "cell_type": "code",
   "execution_count": null,
   "metadata": {},
   "outputs": [],
   "source": [
    "# View Colors\n",
    "mpl.colors.CSS4_COLORS  # 148 colors"
   ]
  },
  {
   "cell_type": "code",
   "execution_count": null,
   "metadata": {},
   "outputs": [],
   "source": [
    "mpl.colors.XKCD_COLORS  # 949 colors"
   ]
  },
  {
   "cell_type": "code",
   "execution_count": null,
   "metadata": {},
   "outputs": [],
   "source": [
    "mpl.colors.BASE_COLORS  # 8 colors"
   ]
  },
  {
   "cell_type": "code",
   "execution_count": null,
   "metadata": {},
   "outputs": [],
   "source": [
    "# View first 10 Palettes\n",
    "dir(plt.cm)[:10]"
   ]
  },
  {
   "cell_type": "markdown",
   "metadata": {},
   "source": [
    "For more information and examples on Matplotlib's color palettes, have a look at the [official documentation](https://matplotlib.org/stable/gallery/color/colormap_reference.html)."
   ]
  },
  {
   "cell_type": "markdown",
   "metadata": {},
   "source": [
    "## How to Customise the Legend\n",
    "The most common way to make a legend is to define the label parameter for each of the plots and finally call `plt.legend()`: we followed this approach in our plot with green dots and blue stars.\n",
    "\n",
    "However, sometimes you might want more flexibility. In that case, you need to pass the plot items you want to draw the legend for and the legend text as parameters to *plt.legend()* in the following format:\n",
    "\n",
    "`plt.legend((line1, line2, line3), ('label1', 'label2', 'label3'))`"
   ]
  },
  {
   "cell_type": "code",
   "execution_count": null,
   "metadata": {},
   "outputs": [],
   "source": [
    "# plt.style.use('ggplot')\n",
    "plt.figure(figsize=(10, 7), dpi=80)\n",
    "\n",
    "X = np.linspace(0, 2 * np.pi, 1000)\n",
    "sine = plt.plot(X, np.sin(X))\n",
    "cosine = plt.plot(X, np.cos(X))\n",
    "\n",
    "# add a little shift\n",
    "sine_2 = plt.plot(X, np.sin(X + 0.5))\n",
    "cosine_2 = plt.plot(X, np.cos(X + 0.5))\n",
    "\n",
    "plt.gca().set(ylim=(-1.25, 1.5), xlim=(-0.5, 7))\n",
    "plt.title(\"Custom Legend Example\", fontsize=18)\n",
    "\n",
    "# Modify legend\n",
    "plt.legend(\n",
    "    [sine[0], cosine[0], sine_2[0], cosine_2[0]],  # these are matplotlib.lines.Line2D items\n",
    "    [\"sine curve\", \"cosine curve\", \"sine curve 2\", \"cosine curve 2\"],\n",
    "    frameon=True,  # legend border\n",
    "    framealpha=1,  # transparency of border\n",
    "    ncol=2,  # num columns\n",
    "    shadow=True,  # shadow on\n",
    "    borderpad=1,  # thickness of border\n",
    "    title=\"Sines and Cosines\",\n",
    ")  # title\n",
    "plt.show()\n"
   ]
  },
  {
   "cell_type": "markdown",
   "metadata": {},
   "source": [
    "Reference: matplotlib's [online documentation for `plt.legend`](https://matplotlib.org/stable/api/_as_gen/matplotlib.pyplot.legend.html)."
   ]
  },
  {
   "cell_type": "markdown",
   "metadata": {},
   "source": [
    "## How to Add Texts, Arrows and Annotations\n",
    "\n",
    "`plt.text` and `plt.annotate` add texts and annotations, respectively. If you have to plot multiple texts you need to call `plt.text()` many times, typically in a for-loop.\n",
    "\n",
    "Let's annotate the peaks and troughs by adding arrows (`arrowprops`) and a bounding box (`bbox`) for the text."
   ]
  },
  {
   "cell_type": "code",
   "execution_count": null,
   "metadata": {},
   "outputs": [],
   "source": [
    "plt.figure(figsize=(14, 7), dpi=60)\n",
    "X = np.linspace(0, 8*np.pi, 1000)\n",
    "# We'll use only a sine function this time\n",
    "sine = plt.plot(X,np.sin(X), color='tab:blue') # 'tab:<color>' selects Case-insensitive Tableau Colors from 'T10' categorical palette."
   ]
  },
  {
   "cell_type": "code",
   "execution_count": null,
   "metadata": {},
   "outputs": [],
   "source": [
    "# Texts, Arrows and Annotations Example\n",
    "# ref: https://matplotlib.org/users/annotations_guide.html\n",
    "\n",
    "plt.figure(figsize=(14,7), dpi=60)\n",
    "X = np.linspace(0, 8*np.pi, 1000)\n",
    "sine = plt.plot(X,np.sin(X), color='tab:blue')\n",
    "\n",
    "# 1. Annotate the 1st peak with Arrow Props and bbox\n",
    "plt.annotate('Peaks', xy=(90/57.2985, 1.0), xytext=(90/57.2985, 1.5),\n",
    "             bbox=dict(boxstyle='square', fc='green', linewidth=0.1),\n",
    "             arrowprops=dict(facecolor='green', shrink=0.01, width=0.1), \n",
    "             fontsize=12, color='white', horizontalalignment='center')\n",
    "\n",
    "# 2. Texts at subsequent Peaks and Troughs\n",
    "for angle in [450, 810, 1170]: # programmatically: for angle in [90 + i*np.round(2*np.pi*57.2985) for i in [1, 2, 3]]:\n",
    "    plt.text(angle/57.2985, 1.1, str(angle) + \"\\ndegrees\", transform=plt.gca().transData, \n",
    "             horizontalalignment='center', color='green')\n",
    "\n",
    "for angle in [270, 630, 990, 1350]: # programmatically: for angle in [270 + i*np.round(2*np.pi*57.2985) for i in range(4)]:\n",
    "    plt.text(angle/57.2985, -1.3, str(angle) + \"\\ndegrees\", transform=plt.gca().transData, \n",
    "             horizontalalignment='center', color='red')    \n",
    "\n",
    "plt.gca().set(ylim=(-2.0, 2.0), xlim=(-.5, 26))\n",
    "plt.title('Annotations and Texts Example', fontsize=18)\n",
    "plt.show()"
   ]
  },
  {
   "cell_type": "markdown",
   "metadata": {},
   "source": [
    "Notice, **all the text we plotted above was in relation to the data.**\n",
    "\n",
    "That is, the x and y position in the `plt.text()` corresponds to the values along the x and y axes. However, sometimes you might work with data of different scales on different subplots and you want to write the texts in the same position on all the subplots.\n",
    "\n",
    "In such case, instead of manually computing the x and y positions for each axes, you can specify the **x and y values in relation to the axes or the figure** (instead of x and y axis values).\n",
    "\n",
    "You can do this by setting `transform` to `Axes(transAxes)` or `Figure(transFigure)`.\n",
    "\n",
    "In this context, the lower left corner of the axes has (x, y) = (0, 0) and the top right corner will correspond to (1, 1).\n",
    "\n",
    "The below plot shows the position of texts for the same values of (x, y) = (0.50, 0.02) with respect to the `Data(transData)`, `Axes(transAxes)` and `Figure(transFigure)` respectively."
   ]
  },
  {
   "cell_type": "code",
   "execution_count": null,
   "metadata": {},
   "outputs": [],
   "source": [
    "# Texts, Arrows and Annotations Example\n",
    "plt.figure(figsize=(14,7), dpi=80)\n",
    "X = np.linspace(0, 8*np.pi, 1000)\n",
    "\n",
    "# Text Relative to DATA\n",
    "plt.text(0.50, 0.02, \"Text relative to the DATA centered at : (0.50, 0.02)\", transform=plt.gca().transData, fontsize=14, ha='center', color='blue')\n",
    "\n",
    "# Text Relative to AXES\n",
    "plt.text(0.50, 0.02, \"Text relative to the AXES centered at : (0.50, 0.02)\", transform=plt.gca().transAxes, fontsize=14, ha='center', color='blue')\n",
    "\n",
    "# Text Relative to FIGURE\n",
    "plt.text(0.50, 0.02, \"Text relative to the FIGURE centered at : (0.50, 0.02)\", transform=plt.gcf().transFigure, fontsize=14, ha='center', color='blue')\n",
    "\n",
    "plt.gca().set(ylim=(-2.0, 2.0), xlim=(0, 2))\n",
    "plt.title('Placing Texts Relative to Data, Axes and Figure', fontsize=18)\n",
    "plt.show()"
   ]
  },
  {
   "cell_type": "markdown",
   "metadata": {},
   "source": [
    "## How to customize matplotlib’s subplots layout\n",
    "Matplotlib provides two convenient ways to create customized multi-subplots layout.\n",
    "\n",
    "* `plt.subplot2grid`\n",
    "* `plt.GridSpec`\n",
    "\n",
    "Both of them lets you draw complex layouts. Below is a nice `plt.subplot2grid` example."
   ]
  },
  {
   "cell_type": "code",
   "execution_count": null,
   "metadata": {},
   "outputs": [],
   "source": [
    "# Subplot2grid approach\n",
    "fig = plt.figure()\n",
    "ax1 = plt.subplot2grid((3, 3), (0, 0), colspan=2, rowspan=2) # topleft\n",
    "ax3 = plt.subplot2grid((3, 3), (0, 2), rowspan=3)            # right\n",
    "ax4 = plt.subplot2grid((3, 3), (2, 0))                       # bottom left\n",
    "ax5 = plt.subplot2grid((3, 3), (2, 1))                       # bottom right\n",
    "fig.tight_layout()"
   ]
  },
  {
   "cell_type": "markdown",
   "metadata": {},
   "source": [
    "Using `plt.GridSpec`, you can use either a `plt.subplot()` interface which takes part of the grid specified by `plt.GridSpec(nrow, ncol)`, or use the `ax = fig.add_subplot(g)`, where the `GridSpec` is defined by `height_ratios` and `weight_ratios`."
   ]
  },
  {
   "cell_type": "code",
   "execution_count": null,
   "metadata": {},
   "outputs": [],
   "source": [
    "# GridSpec Approach 1\n",
    "import matplotlib.gridspec as gridspec\n",
    "\n",
    "fig = plt.figure()\n",
    "grid = plt.GridSpec(2, 3)  # 2 rows 3 cols\n",
    "plt.subplot(grid[0, :2])  # top left\n",
    "plt.subplot(grid[0, 2])  # top right\n",
    "plt.subplot(grid[1, :1])  # bottom left\n",
    "plt.subplot(grid[1, 1:])  # bottom right\n",
    "fig.tight_layout()\n"
   ]
  },
  {
   "cell_type": "code",
   "execution_count": null,
   "metadata": {},
   "outputs": [],
   "source": [
    "# GridSpec Approach 2\n",
    "import matplotlib.gridspec as gridspec\n",
    "\n",
    "fig = plt.figure()\n",
    "gs = gridspec.GridSpec(2, 2, height_ratios=[2, 1], width_ratios=[1, 2])\n",
    "for g in gs:\n",
    "    ax = fig.add_subplot(g)\n",
    "fig.tight_layout()\n"
   ]
  },
  {
   "cell_type": "markdown",
   "metadata": {},
   "source": [
    "The above examples showed layouts where the subplots don't overlap. It is however possible to make subplots to overlap. \n",
    "\n",
    "In fact you can draw an axes inside a larger axes using `fig.add_axes()`. You need to specify the (x, y) positions *relative to the figure* and also the width and height of the inner plot.\n",
    "\n",
    "Below is an example of an inner plot that zooms in to a larger plot."
   ]
  },
  {
   "cell_type": "code",
   "execution_count": null,
   "metadata": {},
   "outputs": [],
   "source": [
    "# Plot inside a plot\n",
    "plt.style.use('ggplot')\n",
    "fig, ax = plt.subplots(figsize=(10, 6))\n",
    "x = np.linspace(-0.50, 1., 1000)\n",
    "\n",
    "# Outer Plot\n",
    "ax.plot(x, x**2)\n",
    "ax.plot(x, np.sin(x))\n",
    "ax.set(xlim=(-0.5, 1.0), ylim=(-0.5, 1.2))\n",
    "fig.tight_layout()\n",
    "\n",
    "# Inner Plot\n",
    "inner_ax = fig.add_axes([0.2, 0.55, 0.35, 0.35]) # x, y, width, height\n",
    "inner_ax.plot(x, x**2)\n",
    "inner_ax.plot(x, np.sin(x))\n",
    "inner_ax.set(title='Zoom In', xlim=(-.2, .2), ylim=(-.01, .02), \n",
    "             yticks = [-0.01, 0, 0.01, 0.02], xticks=[-0.1, 0, .1])\n",
    "ax.set_title(\"Plot inside a Plot\", fontsize=20)\n",
    "plt.show()\n",
    "mpl.rcParams.update(mpl.rcParamsDefault)  # reset to defaults"
   ]
  },
  {
   "cell_type": "markdown",
   "metadata": {},
   "source": [
    "## How is a scatterplot drawn with *plt.plot* different from *plt.scatter*\n",
    "The difference is `plt.plot()` does not provide options to change the color and size of point dynamically (based on another array). \n",
    "`plt.scatter()` allows you to do that.\n",
    "\n",
    "By varying the size and color of points, you can create nice looking bubble plots.\n",
    "\n",
    "Another convenience is that you can directly use a Pandas dataframe to set the x and y values, provided you specify the source dataframe in the `data` argument.\n",
    "\n",
    "You can also set the color 'c' and size 's' of the points from one of the dataframe columns itself."
   ]
  },
  {
   "cell_type": "code",
   "execution_count": null,
   "metadata": {},
   "outputs": [],
   "source": [
    "# Scatterplot with varying size and color of points\n",
    "import pandas as pd\n",
    "\n",
    "midwest = pd.read_csv(\n",
    "    \"https://raw.githubusercontent.com/selva86/datasets/master/midwest_filter.csv\"\n",
    ")\n",
    "midwest.head()\n"
   ]
  },
  {
   "cell_type": "code",
   "execution_count": null,
   "metadata": {},
   "outputs": [],
   "source": [
    "# Plot\n",
    "fig = plt.figure(figsize=(14, 7), dpi=80, facecolor=\"w\", edgecolor=\"k\")\n",
    "plt.scatter(\n",
    "    \"area\",\n",
    "    \"poptotal\",\n",
    "    data=midwest,\n",
    "    s=\"dot_size\",\n",
    "    c=\"popdensity\",\n",
    "    cmap=\"Reds\",\n",
    "    edgecolors=\"black\",\n",
    "    linewidths=0.5,\n",
    ")\n",
    "plt.title(\n",
    "    \"Bubble Plot of PopTotal vs Area\\n(color: 'popdensity' & size: 'dot_size' - both are numeric columns in midwest)\",\n",
    "    fontsize=16,\n",
    ")\n",
    "plt.xlabel(\"Area\", fontsize=18)\n",
    "plt.ylabel(\"Poptotal\", fontsize=18)\n",
    "plt.colorbar()\n",
    "plt.show()\n"
   ]
  },
  {
   "cell_type": "code",
   "execution_count": null,
   "metadata": {},
   "outputs": [],
   "source": [
    "# Plot\n",
    "fig = plt.figure(figsize=(14, 9), dpi=50, facecolor=\"w\", edgecolor=\"k\")\n",
    "colors = plt.cm.tab20.colors\n",
    "categories = np.unique(midwest[\"category\"])\n",
    "for i, category in enumerate(categories):\n",
    "    plt.scatter(\n",
    "        \"area\",\n",
    "        \"poptotal\",\n",
    "        data=midwest.loc[midwest.category == category, :],\n",
    "        s=\"dot_size\",\n",
    "        label=str(category),\n",
    "        edgecolors=\"black\",\n",
    "        linewidths=0.5,\n",
    "    )\n",
    "\n",
    "\n",
    "# Legend for size of points\n",
    "for dot_size in [100, 300, 1000]:\n",
    "    plt.scatter([], [], c=\"k\", alpha=0.5, s=dot_size, label=str(dot_size) + \" TotalPop\")\n",
    "\n",
    "plt.legend(\n",
    "    loc=\"upper right\",\n",
    "    scatterpoints=1,\n",
    "    frameon=False,\n",
    "    labelspacing=2,\n",
    "    title=\"Saravana Stores\",\n",
    "    fontsize=8,\n",
    ")\n",
    "plt.title(\n",
    "    \"Bubble Plot of PopTotal vs Area\\n(color: 'category' - a categorical column in midwest)\",\n",
    "    fontsize=18,\n",
    ")\n",
    "plt.xlabel(\"Area\", fontsize=16)\n",
    "plt.ylabel(\"Poptotal\", fontsize=16)\n",
    "plt.show()\n"
   ]
  },
  {
   "cell_type": "markdown",
   "metadata": {},
   "source": [
    "## How to draw Histograms, Boxplots and Time Series\n",
    "The methods to draw different types of plots are present in pyplot (plt) as well as Axes. The below example shows basic examples of few of the commonly used plot types."
   ]
  },
  {
   "cell_type": "code",
   "execution_count": null,
   "metadata": {},
   "outputs": [],
   "source": [
    "import pandas as pd\n",
    "from pandas.plotting import register_matplotlib_converters\n",
    "\n",
    "register_matplotlib_converters()\n",
    "\n",
    "# Setup the subplot2grid Layout\n",
    "fig = plt.figure(figsize=(10, 5))\n",
    "ax1 = plt.subplot2grid((2, 4), (0, 0))\n",
    "ax2 = plt.subplot2grid((2, 4), (0, 1))\n",
    "ax3 = plt.subplot2grid((2, 4), (0, 2))\n",
    "ax4 = plt.subplot2grid((2, 4), (0, 3))\n",
    "ax5 = plt.subplot2grid((2, 4), (1, 0), colspan=2)\n",
    "ax6 = plt.subplot2grid((2, 4), (1, 2))\n",
    "ax7 = plt.subplot2grid((2, 4), (1, 3))\n",
    "\n",
    "# Input Arrays\n",
    "n = np.array([0, 1, 2, 3, 4, 5])\n",
    "x = np.linspace(0, 5, 10)\n",
    "xx = np.linspace(-0.75, 1.0, 100)\n",
    "\n",
    "# Scatterplot\n",
    "ax1.scatter(xx, xx + np.random.randn(len(xx)))\n",
    "ax1.set_title(\"Scatter Plot\")\n",
    "\n",
    "# Step Chart\n",
    "ax2.step(n, n**2, lw=2)\n",
    "ax2.set_title(\"Step Plot\")\n",
    "\n",
    "# Bar Chart\n",
    "ax3.bar(n, n**2, align=\"center\", width=0.5, alpha=0.5)\n",
    "ax3.set_title(\"Bar Chart\")\n",
    "\n",
    "# Fill Between\n",
    "ax4.fill_between(x, x**2, x**3, color=\"steelblue\", alpha=0.5)\n",
    "ax4.set_title(\"Fill Between\")\n",
    "\n",
    "# Time Series\n",
    "dates = pd.date_range(\"2018-01-01\", periods=len(xx))\n",
    "ax5.plot(dates, xx + np.random.randn(len(xx)))\n",
    "ax5.set_xticks(dates[::30])\n",
    "ax5.set_xticklabels(dates.strftime(\"%Y-%m-%d\")[::30])\n",
    "ax5.set_title(\"Time Series\")\n",
    "\n",
    "# Box Plot\n",
    "ax6.boxplot(np.random.randn(len(xx)))\n",
    "ax6.set_title(\"Box Plot\")\n",
    "\n",
    "# Histogram\n",
    "ax7.hist(xx + np.random.randn(len(xx)))\n",
    "ax7.set_title(\"Histogram\")\n",
    "\n",
    "fig.tight_layout()\n"
   ]
  },
  {
   "cell_type": "markdown",
   "metadata": {},
   "source": [
    "## How to Plot with two Y-Axis\n",
    "Plotting a line chart on the left-hand side axis is straightforward, as you have already seen.\n",
    "\n",
    "How to draw a second Y axis on the right-hand side?\n",
    "\n",
    "The trick is to activate the right-hand side Y axis using `ax.twinx()` to create a second axes.\n",
    "\n",
    "This second axes will have the Y axis on the right activated and shares the same X axis as the original axes. Then, whatever you draw using this second axes will be referenced to the secondary Y axis. The remaining job is to just color the axis and tick labels to match the color of the lines.\n",
    "\n",
    "Let's see a snippet to do this!"
   ]
  },
  {
   "cell_type": "code",
   "execution_count": null,
   "metadata": {},
   "outputs": [],
   "source": [
    "# Import Data\n",
    "df = pd.read_csv(\"https://github.com/selva86/datasets/raw/master/economics.csv\")\n",
    "df.head()"
   ]
  },
  {
   "cell_type": "code",
   "execution_count": null,
   "metadata": {},
   "outputs": [],
   "source": [
    "x = df[\"date\"]\n",
    "y1 = df[\"psavert\"]\n",
    "y2 = df[\"unemploy\"]\n",
    "\n",
    "# Plot Line1 (Left Y Axis)\n",
    "fig, ax1 = plt.subplots(1, 1, figsize=(16, 7), dpi=50)\n",
    "ax1.plot(x, y1, color=\"tab:red\")\n",
    "\n",
    "# Plot Line2 (Right Y Axis)\n",
    "ax2 = ax1.twinx()  # instantiate a second axes that shares the same x-axis\n",
    "ax2.plot(x, y2, color=\"tab:blue\")\n",
    "\n",
    "# That's it! What follows is just decorations\n",
    "# ax1 (left y axis)\n",
    "ax1.set_xlabel(\"Year\", fontsize=20)\n",
    "ax1.set_ylabel(\"Personal Savings Rate\", color=\"tab:red\", fontsize=20)\n",
    "ax1.tick_params(axis=\"y\", rotation=0, labelcolor=\"tab:red\")\n",
    "\n",
    "# ax2 (right Y axis)\n",
    "ax2.set_ylabel(\"# Unemployed (1000's)\", color=\"tab:blue\", fontsize=20)\n",
    "ax2.tick_params(axis=\"y\", labelcolor=\"tab:blue\")\n",
    "ax2.set_title(\n",
    "    \"Personal Savings Rate vs Unemployed: Plotting in Secondary Y Axis\", fontsize=20\n",
    ")\n",
    "ax2.set_xticks(np.arange(0, len(x), 60))\n",
    "ax2.set_xticklabels(x[::60], rotation=90, fontdict={\"fontsize\": 10})\n",
    "plt.show()\n"
   ]
  },
  {
   "cell_type": "markdown",
   "metadata": {},
   "source": [
    "## Seaborn\n",
    "As the charts get more complex, the more the code you’ve got to write. For example, in matplotlib, there is no direct method to draw a density plot of a scatterplot with line of best fit. You get the idea.\n",
    "\n",
    "So, what you can do instead is to use a higher level package like [`seaborn`](https://seaborn.pydata.org/), and use one of its prebuilt functions to draw the plot.\n",
    "\n",
    "We are not going in-depth into `seaborn` now. But let's see how to get started and where to find what you want. A lot of seaborn’s plots are suitable for data analysis and the library works seamlessly with Pandas dataframes.\n",
    "\n",
    "`seaborn` is typically imported as `sns`. Like matplotlib it comes with its own set of pre-built styles and palettes."
   ]
  },
  {
   "cell_type": "code",
   "execution_count": null,
   "metadata": {},
   "outputs": [],
   "source": [
    "import seaborn as sns\n",
    "sns.set_style(\"white\")\n",
    "\n",
    "# Import Data\n",
    "df = pd.read_csv(\"https://github.com/selva86/datasets/raw/master/mpg_ggplot2.csv\")\n",
    "df.head()"
   ]
  },
  {
   "cell_type": "code",
   "execution_count": null,
   "metadata": {},
   "outputs": [],
   "source": [
    "# Draw a density plot of 'cty' stratified by 'cyl'\n",
    "plt.figure(figsize=(16,10), dpi= 50)\n",
    "sns.kdeplot(df.loc[df['cyl'] == 4, \"cty\"], shade=True, color=\"g\", label=\"Cyl=4\", alpha=.7)\n",
    "sns.kdeplot(df.loc[df['cyl'] == 6, \"cty\"], shade=True, color=\"dodgerblue\", label=\"Cyl=6\", alpha=.7)\n",
    "sns.kdeplot(df.loc[df['cyl'] == 8, \"cty\"], shade=True, color=\"orange\", label=\"Cyl=8\", alpha=.7)\n",
    "\n",
    "# Decoration\n",
    "plt.title('Density Plot of City Mileage by n_Cylinders', fontsize=22)\n",
    "plt.legend()\n",
    "plt.show()"
   ]
  },
  {
   "cell_type": "markdown",
   "metadata": {},
   "source": [
    "We can achieve the same with less code, using the `hue` argument and mapping it to a categorical column:"
   ]
  },
  {
   "cell_type": "code",
   "execution_count": null,
   "metadata": {},
   "outputs": [],
   "source": [
    "# create a filtered dataframe\n",
    "df_sub = df.loc[df.cyl != 5, :]\n",
    "\n",
    "plt.figure(figsize=(16, 10), dpi=50)\n",
    "sns.kdeplot(data=df_sub, x=\"cty\", hue=\"cyl\", shade=True, alpha=0.7, palette=\"Set2\")\n",
    "\n",
    "# Decoration\n",
    "plt.title(\"Density Plot of City Mileage by n_Cylinders\", fontsize=22)\n",
    "plt.show()\n"
   ]
  },
  {
   "cell_type": "markdown",
   "metadata": {},
   "source": [
    "One more example, with the Iris dataset:"
   ]
  },
  {
   "cell_type": "code",
   "execution_count": null,
   "metadata": {},
   "outputs": [],
   "source": [
    "# Load Dataset\n",
    "df = sns.load_dataset(\"iris\")\n",
    "\n",
    "# Plot\n",
    "plt.figure(figsize=(10, 8), dpi=80)\n",
    "sns.pairplot(df, kind=\"reg\", hue=\"species\")\n",
    "plt.show()\n"
   ]
  },
  {
   "cell_type": "markdown",
   "metadata": {},
   "source": [
    "## Matplotlib, pyplot and pylab: how are they related?\n",
    "Matplotlib is the whole package; matplotlib.pyplot is a module in matplotlib; and pylab is a module that gets installed alongside matplotlib.\n",
    "\n",
    "Pyplot provides the state-machine interface to the underlying object-oriented plotting library. The state-machine implicitly and automatically creates figures and axes to achieve the desired plot. For example:"
   ]
  },
  {
   "cell_type": "code",
   "execution_count": null,
   "metadata": {},
   "outputs": [],
   "source": [
    "x = np.linspace(0, 2, 100)\n",
    "\n",
    "plt.plot(x, x, label='linear')\n",
    "plt.plot(x, x**2, label='quadratic')\n",
    "plt.plot(x, x**3, label='cubic')\n",
    "\n",
    "plt.xlabel('x label')\n",
    "plt.ylabel('y label')\n",
    "\n",
    "plt.title(\"Simple Plot\")\n",
    "\n",
    "plt.legend()\n",
    "\n",
    "plt.show()"
   ]
  },
  {
   "cell_type": "markdown",
   "metadata": {},
   "source": [
    "The first call to *plt.plot* will automatically create the necessary figure and axes to achieve the desired plot. Subsequent calls to *plt.plot* re-use the current axes and each add another line. Setting the title, legend, and axis labels also automatically use the current axes and set the title, create the legend, and label the axis respectively.\n",
    "\n",
    "*pylab* is a convenience module that bulk imports *matplotlib.pyplot* (for plotting) and numpy (for mathematics and working with arrays) in a single name space. *pylab* is deprecated and its use is strongly discouraged because of namespace pollution. Use *pyplot* instead.\n",
    "\n",
    "For non-interactive plotting it is suggested to use *pyplot* to create the figures and then the OO interface for plotting."
   ]
  }
 ],
 "metadata": {
  "kernelspec": {
   "display_name": "Python 3 (ipykernel)",
   "language": "python",
   "name": "python3"
  },
  "language_info": {
   "codemirror_mode": {
    "name": "ipython",
    "version": 3
   },
   "file_extension": ".py",
   "mimetype": "text/x-python",
   "name": "python",
   "nbconvert_exporter": "python",
   "pygments_lexer": "ipython3",
   "version": "3.9.10"
  }
 },
 "nbformat": 4,
 "nbformat_minor": 2
}
